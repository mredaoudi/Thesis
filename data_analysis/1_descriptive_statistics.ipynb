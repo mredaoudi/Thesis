{
 "cells": [
  {
   "cell_type": "code",
   "execution_count": 20,
   "id": "7df700cb",
   "metadata": {},
   "outputs": [],
   "source": [
    "from descriptive import DataSet \n",
    "import pandas as pd"
   ]
  },
  {
   "cell_type": "markdown",
   "id": "9499f0e4",
   "metadata": {},
   "source": [
    "## Descriptive statistics on the pre-election dataset (training + test)"
   ]
  },
  {
   "cell_type": "code",
   "execution_count": 21,
   "id": "2582ab52",
   "metadata": {},
   "outputs": [],
   "source": [
    "pre = DataSet('pre_election')\n",
    "macron = DataSet('prediction_macron')\n",
    "lepen = DataSet('prediction_lepen')\n",
    "labels = pre.get_labels()\n",
    "words = pre.get_words()\n",
    "emojis = pre.get_emojis()\n",
    "sources = pre.get_sources()\n",
    "char_count = pre.get_character_count()\n",
    "hashtags = pre.get_tags('hashtags')\n",
    "mentions = pre.get_tags('mentions')\n",
    "verifications = pre.get_verifications()\n",
    "time_differences = pre.calculate_time_difference()"
   ]
  },
  {
   "cell_type": "markdown",
   "id": "47d06e12",
   "metadata": {},
   "source": [
    "### Sentiment Labels"
   ]
  },
  {
   "cell_type": "code",
   "execution_count": 38,
   "id": "59f8abf3",
   "metadata": {},
   "outputs": [
    {
     "name": "stdout",
     "output_type": "stream",
     "text": [
      "8591\n",
      "neu    5225\n",
      "pos    1755\n",
      "neg    1611\n",
      "Name: Sentiment, dtype: int64\n"
     ]
    },
    {
     "data": {
      "text/plain": [
       "<AxesSubplot:ylabel='Sentiment'>"
      ]
     },
     "execution_count": 38,
     "metadata": {},
     "output_type": "execute_result"
    },
    {
     "data": {
      "image/png": "[encoded data removed]",
      "text/plain": [
       "<Figure size 1080x720 with 1 Axes>"
      ]
     },
     "metadata": {},
     "output_type": "display_data"
    }
   ],
   "source": [
    "print(len(labels['Sentiment']))\n",
    "ff = labels['Sentiment'].value_counts()\n",
    "print(ff)\n",
    "ff.plot(y='Sentiment', kind='pie', legend=True, figsize=(15,10), autopct='%1.0f%%')"
   ]
  },
  {
   "cell_type": "markdown",
   "id": "8a8c4db2",
   "metadata": {},
   "source": [
    "### Words"
   ]
  },
  {
   "cell_type": "code",
   "execution_count": null,
   "id": "baa141e3",
   "metadata": {},
   "outputs": [],
   "source": []
  },
  {
   "cell_type": "code",
   "execution_count": 23,
   "id": "9f1d455a",
   "metadata": {},
   "outputs": [
    {
     "name": "stdout",
     "output_type": "stream",
     "text": [
      "160689\n",
      "28913\n",
      "28475\n"
     ]
    }
   ],
   "source": [
    "print(len(words['Word']))\n",
    "print(len(macron.get_words()['Word']))\n",
    "print(len(lepen.get_words()['Word']))"
   ]
  },
  {
   "cell_type": "code",
   "execution_count": 24,
   "id": "49bacefc",
   "metadata": {},
   "outputs": [
    {
     "data": {
      "text/html": [
       "<div>\n",
       "<style scoped>\n",
       "    .dataframe tbody tr th:only-of-type {\n",
       "        vertical-align: middle;\n",
       "    }\n",
       "\n",
       "    .dataframe tbody tr th {\n",
       "        vertical-align: top;\n",
       "    }\n",
       "\n",
       "    .dataframe thead th {\n",
       "        text-align: right;\n",
       "    }\n",
       "</style>\n",
       "<table border=\"1\" class=\"dataframe\">\n",
       "  <thead>\n",
       "    <tr style=\"text-align: right;\">\n",
       "      <th></th>\n",
       "      <th>Tweet ID</th>\n",
       "    </tr>\n",
       "    <tr>\n",
       "      <th>Word</th>\n",
       "      <th></th>\n",
       "    </tr>\n",
       "  </thead>\n",
       "  <tbody>\n",
       "    <tr>\n",
       "      <th>de</th>\n",
       "      <td>7094</td>\n",
       "    </tr>\n",
       "    <tr>\n",
       "      <th>la</th>\n",
       "      <td>3652</td>\n",
       "    </tr>\n",
       "    <tr>\n",
       "      <th>pour</th>\n",
       "      <td>3596</td>\n",
       "    </tr>\n",
       "    <tr>\n",
       "      <th>le</th>\n",
       "      <td>3469</td>\n",
       "    </tr>\n",
       "    <tr>\n",
       "      <th>et</th>\n",
       "      <td>3196</td>\n",
       "    </tr>\n",
       "    <tr>\n",
       "      <th>à</th>\n",
       "      <td>2967</td>\n",
       "    </tr>\n",
       "    <tr>\n",
       "      <th>les</th>\n",
       "      <td>2908</td>\n",
       "    </tr>\n",
       "    <tr>\n",
       "      <th>voter</th>\n",
       "      <td>2768</td>\n",
       "    </tr>\n",
       "    <tr>\n",
       "      <th>pas</th>\n",
       "      <td>2522</td>\n",
       "    </tr>\n",
       "    <tr>\n",
       "      <th>qui</th>\n",
       "      <td>2166</td>\n",
       "    </tr>\n",
       "  </tbody>\n",
       "</table>\n",
       "</div>"
      ],
      "text/plain": [
       "       Tweet ID\n",
       "Word           \n",
       "de         7094\n",
       "la         3652\n",
       "pour       3596\n",
       "le         3469\n",
       "et         3196\n",
       "à          2967\n",
       "les        2908\n",
       "voter      2768\n",
       "pas        2522\n",
       "qui        2166"
      ]
     },
     "metadata": {},
     "output_type": "display_data"
    },
    {
     "data": {
      "text/html": [
       "<div>\n",
       "<style scoped>\n",
       "    .dataframe tbody tr th:only-of-type {\n",
       "        vertical-align: middle;\n",
       "    }\n",
       "\n",
       "    .dataframe tbody tr th {\n",
       "        vertical-align: top;\n",
       "    }\n",
       "\n",
       "    .dataframe thead th {\n",
       "        text-align: right;\n",
       "    }\n",
       "</style>\n",
       "<table border=\"1\" class=\"dataframe\">\n",
       "  <thead>\n",
       "    <tr style=\"text-align: right;\">\n",
       "      <th></th>\n",
       "      <th>Tweet ID</th>\n",
       "    </tr>\n",
       "    <tr>\n",
       "      <th>Word</th>\n",
       "      <th></th>\n",
       "    </tr>\n",
       "  </thead>\n",
       "  <tbody>\n",
       "    <tr>\n",
       "      <th>de</th>\n",
       "      <td>1337</td>\n",
       "    </tr>\n",
       "    <tr>\n",
       "      <th>Macron</th>\n",
       "      <td>809</td>\n",
       "    </tr>\n",
       "    <tr>\n",
       "      <th>la</th>\n",
       "      <td>759</td>\n",
       "    </tr>\n",
       "    <tr>\n",
       "      <th>le</th>\n",
       "      <td>605</td>\n",
       "    </tr>\n",
       "    <tr>\n",
       "      <th>à</th>\n",
       "      <td>601</td>\n",
       "    </tr>\n",
       "    <tr>\n",
       "      <th>et</th>\n",
       "      <td>587</td>\n",
       "    </tr>\n",
       "    <tr>\n",
       "      <th>les</th>\n",
       "      <td>499</td>\n",
       "    </tr>\n",
       "    <tr>\n",
       "      <th>pour</th>\n",
       "      <td>491</td>\n",
       "    </tr>\n",
       "    <tr>\n",
       "      <th>que</th>\n",
       "      <td>381</td>\n",
       "    </tr>\n",
       "    <tr>\n",
       "      <th>pas</th>\n",
       "      <td>376</td>\n",
       "    </tr>\n",
       "  </tbody>\n",
       "</table>\n",
       "</div>"
      ],
      "text/plain": [
       "        Tweet ID\n",
       "Word            \n",
       "de          1337\n",
       "Macron       809\n",
       "la           759\n",
       "le           605\n",
       "à            601\n",
       "et           587\n",
       "les          499\n",
       "pour         491\n",
       "que          381\n",
       "pas          376"
      ]
     },
     "metadata": {},
     "output_type": "display_data"
    },
    {
     "data": {
      "text/html": [
       "<div>\n",
       "<style scoped>\n",
       "    .dataframe tbody tr th:only-of-type {\n",
       "        vertical-align: middle;\n",
       "    }\n",
       "\n",
       "    .dataframe tbody tr th {\n",
       "        vertical-align: top;\n",
       "    }\n",
       "\n",
       "    .dataframe thead th {\n",
       "        text-align: right;\n",
       "    }\n",
       "</style>\n",
       "<table border=\"1\" class=\"dataframe\">\n",
       "  <thead>\n",
       "    <tr style=\"text-align: right;\">\n",
       "      <th></th>\n",
       "      <th>Tweet ID</th>\n",
       "    </tr>\n",
       "    <tr>\n",
       "      <th>Word</th>\n",
       "      <th></th>\n",
       "    </tr>\n",
       "  </thead>\n",
       "  <tbody>\n",
       "    <tr>\n",
       "      <th>de</th>\n",
       "      <td>1355</td>\n",
       "    </tr>\n",
       "    <tr>\n",
       "      <th>Le</th>\n",
       "      <td>1212</td>\n",
       "    </tr>\n",
       "    <tr>\n",
       "      <th>Pen</th>\n",
       "      <td>971</td>\n",
       "    </tr>\n",
       "    <tr>\n",
       "      <th>le</th>\n",
       "      <td>761</td>\n",
       "    </tr>\n",
       "    <tr>\n",
       "      <th>Marine</th>\n",
       "      <td>760</td>\n",
       "    </tr>\n",
       "    <tr>\n",
       "      <th>la</th>\n",
       "      <td>684</td>\n",
       "    </tr>\n",
       "    <tr>\n",
       "      <th>à</th>\n",
       "      <td>552</td>\n",
       "    </tr>\n",
       "    <tr>\n",
       "      <th>et</th>\n",
       "      <td>511</td>\n",
       "    </tr>\n",
       "    <tr>\n",
       "      <th>pour</th>\n",
       "      <td>397</td>\n",
       "    </tr>\n",
       "    <tr>\n",
       "      <th>les</th>\n",
       "      <td>397</td>\n",
       "    </tr>\n",
       "    <tr>\n",
       "      <th>pas</th>\n",
       "      <td>370</td>\n",
       "    </tr>\n",
       "  </tbody>\n",
       "</table>\n",
       "</div>"
      ],
      "text/plain": [
       "        Tweet ID\n",
       "Word            \n",
       "de          1355\n",
       "Le          1212\n",
       "Pen          971\n",
       "le           761\n",
       "Marine       760\n",
       "la           684\n",
       "à            552\n",
       "et           511\n",
       "pour         397\n",
       "les          397\n",
       "pas          370"
      ]
     },
     "metadata": {},
     "output_type": "display_data"
    }
   ],
   "source": [
    "words_pre = words.groupby(['Word']).count().sort_values('Tweet ID').sort_values(['Tweet ID'], ascending=False).head(10)\n",
    "words_macron = macron.get_words().groupby(['Word']).count().sort_values('Tweet ID').sort_values(['Tweet ID'], ascending=False).head(10)\n",
    "words_lepen = lepen.get_words().groupby(['Word']).count().sort_values('Tweet ID').sort_values(['Tweet ID'], ascending=False).head(11)\n",
    "display(words_pre)\n",
    "display(words_macron)\n",
    "display(words_lepen)"
   ]
  },
  {
   "cell_type": "markdown",
   "id": "0a3446d3",
   "metadata": {},
   "source": [
    "### Emojis"
   ]
  },
  {
   "cell_type": "code",
   "execution_count": 39,
   "id": "4e8a35a1",
   "metadata": {},
   "outputs": [
    {
     "data": {
      "text/html": [
       "<div>\n",
       "<style scoped>\n",
       "    .dataframe tbody tr th:only-of-type {\n",
       "        vertical-align: middle;\n",
       "    }\n",
       "\n",
       "    .dataframe tbody tr th {\n",
       "        vertical-align: top;\n",
       "    }\n",
       "\n",
       "    .dataframe thead th {\n",
       "        text-align: right;\n",
       "    }\n",
       "</style>\n",
       "<table border=\"1\" class=\"dataframe\">\n",
       "  <thead>\n",
       "    <tr style=\"text-align: right;\">\n",
       "      <th></th>\n",
       "      <th></th>\n",
       "      <th>Tweet ID</th>\n",
       "      <th>Percentage</th>\n",
       "    </tr>\n",
       "    <tr>\n",
       "      <th>Sentiment</th>\n",
       "      <th>Emoji</th>\n",
       "      <th></th>\n",
       "      <th></th>\n",
       "    </tr>\n",
       "  </thead>\n",
       "  <tbody>\n",
       "    <tr>\n",
       "      <th rowspan=\"15\" valign=\"top\">pos</th>\n",
       "      <th>🇫🇷</th>\n",
       "      <td>309</td>\n",
       "      <td>33.48</td>\n",
       "    </tr>\n",
       "    <tr>\n",
       "      <th>🗳</th>\n",
       "      <td>111</td>\n",
       "      <td>12.03</td>\n",
       "    </tr>\n",
       "    <tr>\n",
       "      <th>❤</th>\n",
       "      <td>70</td>\n",
       "      <td>7.58</td>\n",
       "    </tr>\n",
       "    <tr>\n",
       "      <th>✊</th>\n",
       "      <td>67</td>\n",
       "      <td>7.26</td>\n",
       "    </tr>\n",
       "    <tr>\n",
       "      <th>💪</th>\n",
       "      <td>50</td>\n",
       "      <td>5.42</td>\n",
       "    </tr>\n",
       "    <tr>\n",
       "      <th>👉</th>\n",
       "      <td>43</td>\n",
       "      <td>4.66</td>\n",
       "    </tr>\n",
       "    <tr>\n",
       "      <th>👍</th>\n",
       "      <td>37</td>\n",
       "      <td>4.01</td>\n",
       "    </tr>\n",
       "    <tr>\n",
       "      <th>🙏</th>\n",
       "      <td>36</td>\n",
       "      <td>3.90</td>\n",
       "    </tr>\n",
       "    <tr>\n",
       "      <th>✅</th>\n",
       "      <td>32</td>\n",
       "      <td>3.47</td>\n",
       "    </tr>\n",
       "    <tr>\n",
       "      <th>🏻</th>\n",
       "      <td>32</td>\n",
       "      <td>3.47</td>\n",
       "    </tr>\n",
       "    <tr>\n",
       "      <th>➡</th>\n",
       "      <td>30</td>\n",
       "      <td>3.25</td>\n",
       "    </tr>\n",
       "    <tr>\n",
       "      <th>🐢</th>\n",
       "      <td>30</td>\n",
       "      <td>3.25</td>\n",
       "    </tr>\n",
       "    <tr>\n",
       "      <th>👏</th>\n",
       "      <td>26</td>\n",
       "      <td>2.82</td>\n",
       "    </tr>\n",
       "    <tr>\n",
       "      <th>🔴</th>\n",
       "      <td>26</td>\n",
       "      <td>2.82</td>\n",
       "    </tr>\n",
       "    <tr>\n",
       "      <th>🚀</th>\n",
       "      <td>24</td>\n",
       "      <td>2.60</td>\n",
       "    </tr>\n",
       "    <tr>\n",
       "      <th rowspan=\"15\" valign=\"top\">neu</th>\n",
       "      <th>😂</th>\n",
       "      <td>150</td>\n",
       "      <td>16.63</td>\n",
       "    </tr>\n",
       "    <tr>\n",
       "      <th>😭</th>\n",
       "      <td>102</td>\n",
       "      <td>11.31</td>\n",
       "    </tr>\n",
       "    <tr>\n",
       "      <th>🗳</th>\n",
       "      <td>98</td>\n",
       "      <td>10.86</td>\n",
       "    </tr>\n",
       "    <tr>\n",
       "      <th>🤣</th>\n",
       "      <td>88</td>\n",
       "      <td>9.76</td>\n",
       "    </tr>\n",
       "    <tr>\n",
       "      <th>🇫🇷</th>\n",
       "      <td>84</td>\n",
       "      <td>9.31</td>\n",
       "    </tr>\n",
       "    <tr>\n",
       "      <th>🤔</th>\n",
       "      <td>64</td>\n",
       "      <td>7.10</td>\n",
       "    </tr>\n",
       "    <tr>\n",
       "      <th>👉</th>\n",
       "      <td>61</td>\n",
       "      <td>6.76</td>\n",
       "    </tr>\n",
       "    <tr>\n",
       "      <th>➡</th>\n",
       "      <td>50</td>\n",
       "      <td>5.54</td>\n",
       "    </tr>\n",
       "    <tr>\n",
       "      <th>⬇</th>\n",
       "      <td>38</td>\n",
       "      <td>4.21</td>\n",
       "    </tr>\n",
       "    <tr>\n",
       "      <th>👇</th>\n",
       "      <td>37</td>\n",
       "      <td>4.10</td>\n",
       "    </tr>\n",
       "    <tr>\n",
       "      <th>😅</th>\n",
       "      <td>30</td>\n",
       "      <td>3.33</td>\n",
       "    </tr>\n",
       "    <tr>\n",
       "      <th>😉</th>\n",
       "      <td>30</td>\n",
       "      <td>3.33</td>\n",
       "    </tr>\n",
       "    <tr>\n",
       "      <th>💀</th>\n",
       "      <td>27</td>\n",
       "      <td>2.99</td>\n",
       "    </tr>\n",
       "    <tr>\n",
       "      <th>🔴</th>\n",
       "      <td>22</td>\n",
       "      <td>2.44</td>\n",
       "    </tr>\n",
       "    <tr>\n",
       "      <th>😁</th>\n",
       "      <td>21</td>\n",
       "      <td>2.33</td>\n",
       "    </tr>\n",
       "    <tr>\n",
       "      <th rowspan=\"5\" valign=\"top\">neg</th>\n",
       "      <th>😡</th>\n",
       "      <td>54</td>\n",
       "      <td>28.72</td>\n",
       "    </tr>\n",
       "    <tr>\n",
       "      <th>😂</th>\n",
       "      <td>41</td>\n",
       "      <td>21.81</td>\n",
       "    </tr>\n",
       "    <tr>\n",
       "      <th>💀</th>\n",
       "      <td>37</td>\n",
       "      <td>19.68</td>\n",
       "    </tr>\n",
       "    <tr>\n",
       "      <th>🤣</th>\n",
       "      <td>31</td>\n",
       "      <td>16.49</td>\n",
       "    </tr>\n",
       "    <tr>\n",
       "      <th>🤮</th>\n",
       "      <td>25</td>\n",
       "      <td>13.30</td>\n",
       "    </tr>\n",
       "  </tbody>\n",
       "</table>\n",
       "</div>"
      ],
      "text/plain": [
       "                 Tweet ID  Percentage\n",
       "Sentiment Emoji                      \n",
       "pos       🇫🇷          309       33.48\n",
       "          🗳           111       12.03\n",
       "          ❤            70        7.58\n",
       "          ✊            67        7.26\n",
       "          💪            50        5.42\n",
       "          👉            43        4.66\n",
       "          👍            37        4.01\n",
       "          🙏            36        3.90\n",
       "          ✅            32        3.47\n",
       "          🏻            32        3.47\n",
       "          ➡            30        3.25\n",
       "          🐢            30        3.25\n",
       "          👏            26        2.82\n",
       "          🔴            26        2.82\n",
       "          🚀            24        2.60\n",
       "neu       😂           150       16.63\n",
       "          😭           102       11.31\n",
       "          🗳            98       10.86\n",
       "          🤣            88        9.76\n",
       "          🇫🇷           84        9.31\n",
       "          🤔            64        7.10\n",
       "          👉            61        6.76\n",
       "          ➡            50        5.54\n",
       "          ⬇            38        4.21\n",
       "          👇            37        4.10\n",
       "          😅            30        3.33\n",
       "          😉            30        3.33\n",
       "          💀            27        2.99\n",
       "          🔴            22        2.44\n",
       "          😁            21        2.33\n",
       "neg       😡            54       28.72\n",
       "          😂            41       21.81\n",
       "          💀            37       19.68\n",
       "          🤣            31       16.49\n",
       "          🤮            25       13.30"
      ]
     },
     "execution_count": 39,
     "metadata": {},
     "output_type": "execute_result"
    }
   ],
   "source": [
    "se = pd.merge(labels, emojis, how='inner').groupby(['Sentiment', 'Emoji']).count().sort_values(\n",
    "    ['Sentiment', 'Tweet ID'], ascending=[False, False]\n",
    ").query('`Tweet ID` > 20')\n",
    "se['Percentage'] = ((se['Tweet ID'] / se.groupby('Sentiment')['Tweet ID'].transform('sum')) * 100).round(2)\n",
    "se"
   ]
  },
  {
   "cell_type": "code",
   "execution_count": 26,
   "id": "a87cc211",
   "metadata": {},
   "outputs": [
    {
     "data": {
      "text/html": [
       "<div>\n",
       "<style scoped>\n",
       "    .dataframe tbody tr th:only-of-type {\n",
       "        vertical-align: middle;\n",
       "    }\n",
       "\n",
       "    .dataframe tbody tr th {\n",
       "        vertical-align: top;\n",
       "    }\n",
       "\n",
       "    .dataframe thead th {\n",
       "        text-align: right;\n",
       "    }\n",
       "</style>\n",
       "<table border=\"1\" class=\"dataframe\">\n",
       "  <thead>\n",
       "    <tr style=\"text-align: right;\">\n",
       "      <th></th>\n",
       "      <th>Tweet ID</th>\n",
       "    </tr>\n",
       "    <tr>\n",
       "      <th>Emoji</th>\n",
       "      <th></th>\n",
       "    </tr>\n",
       "  </thead>\n",
       "  <tbody>\n",
       "    <tr>\n",
       "      <th>🇫🇷</th>\n",
       "      <td>59</td>\n",
       "    </tr>\n",
       "    <tr>\n",
       "      <th>😂</th>\n",
       "      <td>38</td>\n",
       "    </tr>\n",
       "    <tr>\n",
       "      <th>🤣</th>\n",
       "      <td>36</td>\n",
       "    </tr>\n",
       "    <tr>\n",
       "      <th>🤡</th>\n",
       "      <td>29</td>\n",
       "    </tr>\n",
       "    <tr>\n",
       "      <th>👇</th>\n",
       "      <td>29</td>\n",
       "    </tr>\n",
       "  </tbody>\n",
       "</table>\n",
       "</div>"
      ],
      "text/plain": [
       "       Tweet ID\n",
       "Emoji          \n",
       "🇫🇷           59\n",
       "😂            38\n",
       "🤣            36\n",
       "🤡            29\n",
       "👇            29"
      ]
     },
     "metadata": {},
     "output_type": "display_data"
    },
    {
     "data": {
      "text/html": [
       "<div>\n",
       "<style scoped>\n",
       "    .dataframe tbody tr th:only-of-type {\n",
       "        vertical-align: middle;\n",
       "    }\n",
       "\n",
       "    .dataframe tbody tr th {\n",
       "        vertical-align: top;\n",
       "    }\n",
       "\n",
       "    .dataframe thead th {\n",
       "        text-align: right;\n",
       "    }\n",
       "</style>\n",
       "<table border=\"1\" class=\"dataframe\">\n",
       "  <thead>\n",
       "    <tr style=\"text-align: right;\">\n",
       "      <th></th>\n",
       "      <th>Tweet ID</th>\n",
       "    </tr>\n",
       "    <tr>\n",
       "      <th>Emoji</th>\n",
       "      <th></th>\n",
       "    </tr>\n",
       "  </thead>\n",
       "  <tbody>\n",
       "    <tr>\n",
       "      <th>🇫🇷</th>\n",
       "      <td>38</td>\n",
       "    </tr>\n",
       "    <tr>\n",
       "      <th>😂</th>\n",
       "      <td>26</td>\n",
       "    </tr>\n",
       "    <tr>\n",
       "      <th>🙏</th>\n",
       "      <td>20</td>\n",
       "    </tr>\n",
       "    <tr>\n",
       "      <th>⬇</th>\n",
       "      <td>20</td>\n",
       "    </tr>\n",
       "    <tr>\n",
       "      <th>🤣</th>\n",
       "      <td>19</td>\n",
       "    </tr>\n",
       "  </tbody>\n",
       "</table>\n",
       "</div>"
      ],
      "text/plain": [
       "       Tweet ID\n",
       "Emoji          \n",
       "🇫🇷           38\n",
       "😂            26\n",
       "🙏            20\n",
       "⬇            20\n",
       "🤣            19"
      ]
     },
     "metadata": {},
     "output_type": "display_data"
    }
   ],
   "source": [
    "macron_emojis = macron.get_emojis().groupby(['Emoji']).count().sort_values('Tweet ID').sort_values(['Tweet ID'], ascending=False).head(5)\n",
    "lepen_emojis = lepen.get_emojis().groupby(['Emoji']).count().sort_values('Tweet ID').sort_values(['Tweet ID'], ascending=False).head(5)\n",
    "display(macron_emojis)\n",
    "display(lepen_emojis)"
   ]
  },
  {
   "cell_type": "markdown",
   "id": "662c3112",
   "metadata": {},
   "source": [
    "### Sources"
   ]
  },
  {
   "cell_type": "code",
   "execution_count": 27,
   "id": "de693cdd",
   "metadata": {},
   "outputs": [
    {
     "data": {
      "text/plain": [
       "95"
      ]
     },
     "execution_count": 27,
     "metadata": {},
     "output_type": "execute_result"
    }
   ],
   "source": [
    "len(sources.groupby(['Source']).count())"
   ]
  },
  {
   "cell_type": "code",
   "execution_count": 28,
   "id": "1a9ad1c5",
   "metadata": {},
   "outputs": [
    {
     "data": {
      "text/html": [
       "<div>\n",
       "<style scoped>\n",
       "    .dataframe tbody tr th:only-of-type {\n",
       "        vertical-align: middle;\n",
       "    }\n",
       "\n",
       "    .dataframe tbody tr th {\n",
       "        vertical-align: top;\n",
       "    }\n",
       "\n",
       "    .dataframe thead th {\n",
       "        text-align: right;\n",
       "    }\n",
       "</style>\n",
       "<table border=\"1\" class=\"dataframe\">\n",
       "  <thead>\n",
       "    <tr style=\"text-align: right;\">\n",
       "      <th></th>\n",
       "      <th>Tweet ID</th>\n",
       "      <th>Percentage</th>\n",
       "    </tr>\n",
       "    <tr>\n",
       "      <th>Source</th>\n",
       "      <th></th>\n",
       "      <th></th>\n",
       "    </tr>\n",
       "  </thead>\n",
       "  <tbody>\n",
       "    <tr>\n",
       "      <th>Twitter for iPhone</th>\n",
       "      <td>3140</td>\n",
       "      <td>36.55</td>\n",
       "    </tr>\n",
       "    <tr>\n",
       "      <th>Twitter for Android</th>\n",
       "      <td>2556</td>\n",
       "      <td>29.75</td>\n",
       "    </tr>\n",
       "    <tr>\n",
       "      <th>Twitter Web App</th>\n",
       "      <td>1761</td>\n",
       "      <td>20.50</td>\n",
       "    </tr>\n",
       "    <tr>\n",
       "      <th>Twitter for iPad</th>\n",
       "      <td>127</td>\n",
       "      <td>1.48</td>\n",
       "    </tr>\n",
       "    <tr>\n",
       "      <th>TweetDeck</th>\n",
       "      <td>69</td>\n",
       "      <td>0.80</td>\n",
       "    </tr>\n",
       "  </tbody>\n",
       "</table>\n",
       "</div>"
      ],
      "text/plain": [
       "                     Tweet ID  Percentage\n",
       "Source                                   \n",
       "Twitter for iPhone       3140       36.55\n",
       "Twitter for Android      2556       29.75\n",
       "Twitter Web App          1761       20.50\n",
       "Twitter for iPad          127        1.48\n",
       "TweetDeck                  69        0.80"
      ]
     },
     "metadata": {},
     "output_type": "display_data"
    },
    {
     "data": {
      "text/html": [
       "<div>\n",
       "<style scoped>\n",
       "    .dataframe tbody tr th:only-of-type {\n",
       "        vertical-align: middle;\n",
       "    }\n",
       "\n",
       "    .dataframe tbody tr th {\n",
       "        vertical-align: top;\n",
       "    }\n",
       "\n",
       "    .dataframe thead th {\n",
       "        text-align: right;\n",
       "    }\n",
       "</style>\n",
       "<table border=\"1\" class=\"dataframe\">\n",
       "  <thead>\n",
       "    <tr style=\"text-align: right;\">\n",
       "      <th></th>\n",
       "      <th>Tweet ID</th>\n",
       "      <th>Percentage</th>\n",
       "    </tr>\n",
       "    <tr>\n",
       "      <th>Source</th>\n",
       "      <th></th>\n",
       "      <th></th>\n",
       "    </tr>\n",
       "  </thead>\n",
       "  <tbody>\n",
       "    <tr>\n",
       "      <th>Twitter for Android</th>\n",
       "      <td>500</td>\n",
       "      <td>32.59</td>\n",
       "    </tr>\n",
       "    <tr>\n",
       "      <th>Twitter Web App</th>\n",
       "      <td>436</td>\n",
       "      <td>28.42</td>\n",
       "    </tr>\n",
       "    <tr>\n",
       "      <th>Twitter for iPhone</th>\n",
       "      <td>431</td>\n",
       "      <td>28.10</td>\n",
       "    </tr>\n",
       "    <tr>\n",
       "      <th>Twitter for iPad</th>\n",
       "      <td>41</td>\n",
       "      <td>2.67</td>\n",
       "    </tr>\n",
       "    <tr>\n",
       "      <th>WordPress.com</th>\n",
       "      <td>7</td>\n",
       "      <td>0.46</td>\n",
       "    </tr>\n",
       "  </tbody>\n",
       "</table>\n",
       "</div>"
      ],
      "text/plain": [
       "                     Tweet ID  Percentage\n",
       "Source                                   \n",
       "Twitter for Android       500       32.59\n",
       "Twitter Web App           436       28.42\n",
       "Twitter for iPhone        431       28.10\n",
       "Twitter for iPad           41        2.67\n",
       "WordPress.com               7        0.46"
      ]
     },
     "metadata": {},
     "output_type": "display_data"
    },
    {
     "data": {
      "text/html": [
       "<div>\n",
       "<style scoped>\n",
       "    .dataframe tbody tr th:only-of-type {\n",
       "        vertical-align: middle;\n",
       "    }\n",
       "\n",
       "    .dataframe tbody tr th {\n",
       "        vertical-align: top;\n",
       "    }\n",
       "\n",
       "    .dataframe thead th {\n",
       "        text-align: right;\n",
       "    }\n",
       "</style>\n",
       "<table border=\"1\" class=\"dataframe\">\n",
       "  <thead>\n",
       "    <tr style=\"text-align: right;\">\n",
       "      <th></th>\n",
       "      <th>Tweet ID</th>\n",
       "      <th>Percentage</th>\n",
       "    </tr>\n",
       "    <tr>\n",
       "      <th>Source</th>\n",
       "      <th></th>\n",
       "      <th></th>\n",
       "    </tr>\n",
       "  </thead>\n",
       "  <tbody>\n",
       "    <tr>\n",
       "      <th>Twitter for Android</th>\n",
       "      <td>463</td>\n",
       "      <td>30.18</td>\n",
       "    </tr>\n",
       "    <tr>\n",
       "      <th>Twitter Web App</th>\n",
       "      <td>450</td>\n",
       "      <td>29.34</td>\n",
       "    </tr>\n",
       "    <tr>\n",
       "      <th>Twitter for iPhone</th>\n",
       "      <td>444</td>\n",
       "      <td>28.94</td>\n",
       "    </tr>\n",
       "    <tr>\n",
       "      <th>Twitter for iPad</th>\n",
       "      <td>34</td>\n",
       "      <td>2.22</td>\n",
       "    </tr>\n",
       "    <tr>\n",
       "      <th>WordPress.com</th>\n",
       "      <td>25</td>\n",
       "      <td>1.63</td>\n",
       "    </tr>\n",
       "  </tbody>\n",
       "</table>\n",
       "</div>"
      ],
      "text/plain": [
       "                     Tweet ID  Percentage\n",
       "Source                                   \n",
       "Twitter for Android       463       30.18\n",
       "Twitter Web App           450       29.34\n",
       "Twitter for iPhone        444       28.94\n",
       "Twitter for iPad           34        2.22\n",
       "WordPress.com              25        1.63"
      ]
     },
     "metadata": {},
     "output_type": "display_data"
    }
   ],
   "source": [
    "s = sources.groupby(['Source']).count().sort_values('Tweet ID').sort_values(['Tweet ID'], ascending=False).head(5)\n",
    "s['Percentage'] = ((s['Tweet ID'] / sources['Tweet ID'].count()) * 100).round(2)\n",
    "\n",
    "macron_sources = macron.get_sources()\n",
    "macron_s = macron_sources.groupby(['Source']).count().sort_values('Tweet ID').sort_values(['Tweet ID'], ascending=False).head(5)\n",
    "macron_s['Percentage'] = ((macron_s['Tweet ID'] / macron_sources['Tweet ID'].count()) * 100).round(2)\n",
    "\n",
    "lepen_sources = lepen.get_sources()\n",
    "lepen_s = lepen_sources.groupby(['Source']).count().sort_values('Tweet ID').sort_values(['Tweet ID'], ascending=False).head(5)\n",
    "lepen_s['Percentage'] = ((lepen_s['Tweet ID'] / lepen_sources['Tweet ID'].count()) * 100).round(2)\n",
    "\n",
    "display(s)\n",
    "display(macron_s)\n",
    "display(lepen_s)"
   ]
  },
  {
   "cell_type": "markdown",
   "id": "7ef25083",
   "metadata": {},
   "source": [
    "### Tags"
   ]
  },
  {
   "cell_type": "code",
   "execution_count": 29,
   "id": "d8cb36ba",
   "metadata": {},
   "outputs": [
    {
     "name": "stdout",
     "output_type": "stream",
     "text": [
      "Hashtags\n",
      "False       5674\n",
      "True        2917\n",
      "dtype: int64\n",
      "Mentions\n",
      "False       7240\n",
      "True        1351\n",
      "dtype: int64\n"
     ]
    },
    {
     "data": {
      "text/plain": [
       "5059"
      ]
     },
     "execution_count": 29,
     "metadata": {},
     "output_type": "execute_result"
    }
   ],
   "source": [
    "print(hashtags.groupby('Tweet ID').count().apply(lambda x: x >= 1).value_counts())\n",
    "print(mentions.groupby('Tweet ID').count().apply(lambda x: x >= 1).value_counts())\n",
    "hm = pd.merge(hashtags, mentions, how='inner').query('Hashtags != Hashtags and Mentions != Mentions')\n",
    "len(hm)"
   ]
  },
  {
   "cell_type": "code",
   "execution_count": 30,
   "id": "1e9437ed",
   "metadata": {},
   "outputs": [
    {
     "name": "stdout",
     "output_type": "stream",
     "text": [
      "Hashtags\n",
      "False       992\n",
      "True        542\n",
      "dtype: int64\n",
      "Mentions\n",
      "False       1323\n",
      "True         211\n",
      "dtype: int64\n"
     ]
    },
    {
     "data": {
      "text/plain": [
       "856"
      ]
     },
     "execution_count": 30,
     "metadata": {},
     "output_type": "execute_result"
    }
   ],
   "source": [
    "m_hashtags = macron.get_tags('hashtags')\n",
    "m_mentions = macron.get_tags('mentions')\n",
    "print(m_hashtags.groupby('Tweet ID').count().apply(lambda x: x >= 1).value_counts())\n",
    "print(m_mentions.groupby('Tweet ID').count().apply(lambda x: x >= 1).value_counts())\n",
    "mt = pd.merge(m_hashtags, m_mentions, how='inner').query('Hashtags != Hashtags and Mentions != Mentions')\n",
    "len(mt)"
   ]
  },
  {
   "cell_type": "code",
   "execution_count": 31,
   "id": "10174915",
   "metadata": {},
   "outputs": [
    {
     "name": "stdout",
     "output_type": "stream",
     "text": [
      "Hashtags\n",
      "False       1144\n",
      "True         390\n",
      "dtype: int64\n",
      "Mentions\n",
      "False       1229\n",
      "True         305\n",
      "dtype: int64\n"
     ]
    },
    {
     "data": {
      "text/plain": [
       "915"
      ]
     },
     "execution_count": 31,
     "metadata": {},
     "output_type": "execute_result"
    }
   ],
   "source": [
    "l_hashtags = lepen.get_tags('hashtags')\n",
    "l_mentions = lepen.get_tags('mentions')\n",
    "print(l_hashtags.groupby('Tweet ID').count().apply(lambda x: x >= 1).value_counts())\n",
    "print(l_mentions.groupby('Tweet ID').count().apply(lambda x: x >= 1).value_counts())\n",
    "lt = pd.merge(l_hashtags, l_mentions, how='inner').query('Hashtags != Hashtags and Mentions != Mentions')\n",
    "len(lt)"
   ]
  },
  {
   "cell_type": "code",
   "execution_count": 32,
   "id": "a88cfcd6",
   "metadata": {},
   "outputs": [
    {
     "data": {
      "text/html": [
       "<div>\n",
       "<style scoped>\n",
       "    .dataframe tbody tr th:only-of-type {\n",
       "        vertical-align: middle;\n",
       "    }\n",
       "\n",
       "    .dataframe tbody tr th {\n",
       "        vertical-align: top;\n",
       "    }\n",
       "\n",
       "    .dataframe thead th {\n",
       "        text-align: right;\n",
       "    }\n",
       "</style>\n",
       "<table border=\"1\" class=\"dataframe\">\n",
       "  <thead>\n",
       "    <tr style=\"text-align: right;\">\n",
       "      <th></th>\n",
       "      <th>Tweet ID</th>\n",
       "    </tr>\n",
       "    <tr>\n",
       "      <th>Hashtags</th>\n",
       "      <th></th>\n",
       "    </tr>\n",
       "  </thead>\n",
       "  <tbody>\n",
       "    <tr>\n",
       "      <th>presidentielles2022</th>\n",
       "      <td>398</td>\n",
       "    </tr>\n",
       "    <tr>\n",
       "      <th>DimancheJeVoteMelenchon</th>\n",
       "      <td>296</td>\n",
       "    </tr>\n",
       "    <tr>\n",
       "      <th>Macron</th>\n",
       "      <td>237</td>\n",
       "    </tr>\n",
       "    <tr>\n",
       "      <th>Presidentielle2022</th>\n",
       "      <td>184</td>\n",
       "    </tr>\n",
       "    <tr>\n",
       "      <th>Melenchon</th>\n",
       "      <td>153</td>\n",
       "    </tr>\n",
       "  </tbody>\n",
       "</table>\n",
       "</div>"
      ],
      "text/plain": [
       "                         Tweet ID\n",
       "Hashtags                         \n",
       "presidentielles2022           398\n",
       "DimancheJeVoteMelenchon       296\n",
       "Macron                        237\n",
       "Presidentielle2022            184\n",
       "Melenchon                     153"
      ]
     },
     "metadata": {},
     "output_type": "display_data"
    },
    {
     "data": {
      "text/html": [
       "<div>\n",
       "<style scoped>\n",
       "    .dataframe tbody tr th:only-of-type {\n",
       "        vertical-align: middle;\n",
       "    }\n",
       "\n",
       "    .dataframe tbody tr th {\n",
       "        vertical-align: top;\n",
       "    }\n",
       "\n",
       "    .dataframe thead th {\n",
       "        text-align: right;\n",
       "    }\n",
       "</style>\n",
       "<table border=\"1\" class=\"dataframe\">\n",
       "  <thead>\n",
       "    <tr style=\"text-align: right;\">\n",
       "      <th></th>\n",
       "      <th>Tweet ID</th>\n",
       "    </tr>\n",
       "    <tr>\n",
       "      <th>Hashtags</th>\n",
       "      <th></th>\n",
       "    </tr>\n",
       "  </thead>\n",
       "  <tbody>\n",
       "    <tr>\n",
       "      <th>Macron</th>\n",
       "      <td>200</td>\n",
       "    </tr>\n",
       "    <tr>\n",
       "      <th>presidentielles2022</th>\n",
       "      <td>75</td>\n",
       "    </tr>\n",
       "    <tr>\n",
       "      <th>Presidentielles</th>\n",
       "      <td>51</td>\n",
       "    </tr>\n",
       "    <tr>\n",
       "      <th>macron</th>\n",
       "      <td>45</td>\n",
       "    </tr>\n",
       "    <tr>\n",
       "      <th>TousContreMacron</th>\n",
       "      <td>41</td>\n",
       "    </tr>\n",
       "  </tbody>\n",
       "</table>\n",
       "</div>"
      ],
      "text/plain": [
       "                     Tweet ID\n",
       "Hashtags                     \n",
       "Macron                    200\n",
       "presidentielles2022        75\n",
       "Presidentielles            51\n",
       "macron                     45\n",
       "TousContreMacron           41"
      ]
     },
     "metadata": {},
     "output_type": "display_data"
    },
    {
     "data": {
      "text/html": [
       "<div>\n",
       "<style scoped>\n",
       "    .dataframe tbody tr th:only-of-type {\n",
       "        vertical-align: middle;\n",
       "    }\n",
       "\n",
       "    .dataframe tbody tr th {\n",
       "        vertical-align: top;\n",
       "    }\n",
       "\n",
       "    .dataframe thead th {\n",
       "        text-align: right;\n",
       "    }\n",
       "</style>\n",
       "<table border=\"1\" class=\"dataframe\">\n",
       "  <thead>\n",
       "    <tr style=\"text-align: right;\">\n",
       "      <th></th>\n",
       "      <th>Tweet ID</th>\n",
       "    </tr>\n",
       "    <tr>\n",
       "      <th>Hashtags</th>\n",
       "      <th></th>\n",
       "    </tr>\n",
       "  </thead>\n",
       "  <tbody>\n",
       "    <tr>\n",
       "      <th>presidentielles2022</th>\n",
       "      <td>29</td>\n",
       "    </tr>\n",
       "    <tr>\n",
       "      <th>TPMP</th>\n",
       "      <td>28</td>\n",
       "    </tr>\n",
       "    <tr>\n",
       "      <th>Presidentielles</th>\n",
       "      <td>26</td>\n",
       "    </tr>\n",
       "    <tr>\n",
       "      <th>JeVoteMacron</th>\n",
       "      <td>24</td>\n",
       "    </tr>\n",
       "    <tr>\n",
       "      <th>Presidentielle2022</th>\n",
       "      <td>23</td>\n",
       "    </tr>\n",
       "  </tbody>\n",
       "</table>\n",
       "</div>"
      ],
      "text/plain": [
       "                     Tweet ID\n",
       "Hashtags                     \n",
       "presidentielles2022        29\n",
       "TPMP                       28\n",
       "Presidentielles            26\n",
       "JeVoteMacron               24\n",
       "Presidentielle2022         23"
      ]
     },
     "metadata": {},
     "output_type": "display_data"
    }
   ],
   "source": [
    "pre_tags = hashtags.groupby(['Hashtags']).count().sort_values('Tweet ID').sort_values(['Tweet ID'], ascending=False).head(5)\n",
    "macron_tags = macron.get_tags('hashtags').groupby(['Hashtags']).count().sort_values('Tweet ID').sort_values(['Tweet ID'], ascending=False).head(5)\n",
    "lepen_tags = lepen.get_tags('hashtags').groupby(['Hashtags']).count().sort_values('Tweet ID').sort_values(['Tweet ID'], ascending=False).head(5)\n",
    "\n",
    "display(pre_tags)\n",
    "display(macron_tags)\n",
    "display(lepen_tags)"
   ]
  },
  {
   "cell_type": "markdown",
   "id": "ce4692af",
   "metadata": {},
   "source": [
    "### User Verification"
   ]
  },
  {
   "cell_type": "code",
   "execution_count": 33,
   "id": "96b4d799",
   "metadata": {
    "scrolled": false
   },
   "outputs": [
    {
     "data": {
      "text/html": [
       "<div>\n",
       "<style scoped>\n",
       "    .dataframe tbody tr th:only-of-type {\n",
       "        vertical-align: middle;\n",
       "    }\n",
       "\n",
       "    .dataframe tbody tr th {\n",
       "        vertical-align: top;\n",
       "    }\n",
       "\n",
       "    .dataframe thead th {\n",
       "        text-align: right;\n",
       "    }\n",
       "</style>\n",
       "<table border=\"1\" class=\"dataframe\">\n",
       "  <thead>\n",
       "    <tr style=\"text-align: right;\">\n",
       "      <th></th>\n",
       "      <th>Tweet ID</th>\n",
       "    </tr>\n",
       "    <tr>\n",
       "      <th>User Verified</th>\n",
       "      <th></th>\n",
       "    </tr>\n",
       "  </thead>\n",
       "  <tbody>\n",
       "    <tr>\n",
       "      <th>False</th>\n",
       "      <td>7674</td>\n",
       "    </tr>\n",
       "    <tr>\n",
       "      <th>True</th>\n",
       "      <td>276</td>\n",
       "    </tr>\n",
       "  </tbody>\n",
       "</table>\n",
       "</div>"
      ],
      "text/plain": [
       "               Tweet ID\n",
       "User Verified          \n",
       "False              7674\n",
       "True                276"
      ]
     },
     "metadata": {},
     "output_type": "display_data"
    },
    {
     "data": {
      "text/html": [
       "<div>\n",
       "<style scoped>\n",
       "    .dataframe tbody tr th:only-of-type {\n",
       "        vertical-align: middle;\n",
       "    }\n",
       "\n",
       "    .dataframe tbody tr th {\n",
       "        vertical-align: top;\n",
       "    }\n",
       "\n",
       "    .dataframe thead th {\n",
       "        text-align: right;\n",
       "    }\n",
       "</style>\n",
       "<table border=\"1\" class=\"dataframe\">\n",
       "  <thead>\n",
       "    <tr style=\"text-align: right;\">\n",
       "      <th></th>\n",
       "      <th>Tweet ID</th>\n",
       "    </tr>\n",
       "    <tr>\n",
       "      <th>User Verified</th>\n",
       "      <th></th>\n",
       "    </tr>\n",
       "  </thead>\n",
       "  <tbody>\n",
       "    <tr>\n",
       "      <th>False</th>\n",
       "      <td>1451</td>\n",
       "    </tr>\n",
       "    <tr>\n",
       "      <th>True</th>\n",
       "      <td>20</td>\n",
       "    </tr>\n",
       "  </tbody>\n",
       "</table>\n",
       "</div>"
      ],
      "text/plain": [
       "               Tweet ID\n",
       "User Verified          \n",
       "False              1451\n",
       "True                 20"
      ]
     },
     "metadata": {},
     "output_type": "display_data"
    },
    {
     "data": {
      "text/html": [
       "<div>\n",
       "<style scoped>\n",
       "    .dataframe tbody tr th:only-of-type {\n",
       "        vertical-align: middle;\n",
       "    }\n",
       "\n",
       "    .dataframe tbody tr th {\n",
       "        vertical-align: top;\n",
       "    }\n",
       "\n",
       "    .dataframe thead th {\n",
       "        text-align: right;\n",
       "    }\n",
       "</style>\n",
       "<table border=\"1\" class=\"dataframe\">\n",
       "  <thead>\n",
       "    <tr style=\"text-align: right;\">\n",
       "      <th></th>\n",
       "      <th>Tweet ID</th>\n",
       "    </tr>\n",
       "    <tr>\n",
       "      <th>User Verified</th>\n",
       "      <th></th>\n",
       "    </tr>\n",
       "  </thead>\n",
       "  <tbody>\n",
       "    <tr>\n",
       "      <th>False</th>\n",
       "      <td>1449</td>\n",
       "    </tr>\n",
       "    <tr>\n",
       "      <th>True</th>\n",
       "      <td>50</td>\n",
       "    </tr>\n",
       "  </tbody>\n",
       "</table>\n",
       "</div>"
      ],
      "text/plain": [
       "               Tweet ID\n",
       "User Verified          \n",
       "False              1449\n",
       "True                 50"
      ]
     },
     "metadata": {},
     "output_type": "display_data"
    }
   ],
   "source": [
    "dd = verifications.groupby(['User Verified']).count().sort_values('Tweet ID').sort_values(['Tweet ID'], ascending=False).head(5)\n",
    "macron_verif = macron.get_verifications().groupby(['User Verified']).count().sort_values('Tweet ID').sort_values(['Tweet ID'], ascending=False).head(5)\n",
    "lepen_verif = lepen.get_verifications().groupby(['User Verified']).count().sort_values('Tweet ID').sort_values(['Tweet ID'], ascending=False).head(5)\n",
    "\n",
    "display(dd)\n",
    "display(macron_verif)\n",
    "display(lepen_verif)"
   ]
  },
  {
   "cell_type": "markdown",
   "id": "114e81fd",
   "metadata": {},
   "source": [
    "### Time difference between Tweet and Account creation"
   ]
  },
  {
   "cell_type": "code",
   "execution_count": 34,
   "id": "b5b79f1b",
   "metadata": {
    "scrolled": true
   },
   "outputs": [
    {
     "name": "stdout",
     "output_type": "stream",
     "text": [
      "Pre-election: 1961.5\n",
      "           Time Difference\n",
      "Sentiment                 \n",
      "neg                 1701.0\n",
      "neu                 2067.0\n",
      "pos                 1984.0\n",
      "\n",
      "Macron: 1373.0\n",
      "\n",
      "Le Pen: 1916.0\n"
     ]
    }
   ],
   "source": [
    "st = pd.merge(labels, time_differences, how='inner')\n",
    "print(\"Pre-election: \" + str(time_differences['Time Difference'].median()))\n",
    "print(st.groupby(['Sentiment']).median())\n",
    "print(\"\\nMacron: \" + str(macron.calculate_time_difference()['Time Difference'].median()))\n",
    "print(\"\\nLe Pen: \" + str(lepen.calculate_time_difference()['Time Difference'].median()))"
   ]
  },
  {
   "cell_type": "code",
   "execution_count": 35,
   "id": "ff7b92af",
   "metadata": {},
   "outputs": [
    {
     "data": {
      "text/plain": [
       "Sentiment\n",
       "neg    AxesSubplot(0.125,0.125;0.775x0.755)\n",
       "neu    AxesSubplot(0.125,0.125;0.775x0.755)\n",
       "pos    AxesSubplot(0.125,0.125;0.775x0.755)\n",
       "Name: Time Difference, dtype: object"
      ]
     },
     "metadata": {},
     "output_type": "display_data"
    },
    {
     "data": {
      "image/png": "[encoded data removed]",
      "text/plain": [
       "<Figure size 1440x1080 with 1 Axes>"
      ]
     },
     "metadata": {
      "needs_background": "light"
     },
     "output_type": "display_data"
    }
   ],
   "source": [
    "display(st.groupby('Sentiment')['Time Difference'].plot(kind='density', legend=True, figsize=(20,15)))"
   ]
  },
  {
   "cell_type": "markdown",
   "id": "f46d1e7a",
   "metadata": {},
   "source": [
    "### Character count"
   ]
  },
  {
   "cell_type": "code",
   "execution_count": 36,
   "id": "26060d7b",
   "metadata": {},
   "outputs": [
    {
     "name": "stdout",
     "output_type": "stream",
     "text": [
      "Pre-election: 136.0\n",
      "           Character Count\n",
      "Sentiment                 \n",
      "neg                  126.0\n",
      "neu                  134.0\n",
      "pos                  157.0\n",
      "\n",
      "Macron: 137.0\n",
      "\n",
      "Le Pen: 116.0\n"
     ]
    }
   ],
   "source": [
    "sc = pd.merge(labels, char_count, how='inner')\n",
    "print(\"Pre-election: \" + str(char_count['Character Count'].median()))\n",
    "print(sc.groupby(['Sentiment']).median())\n",
    "print(\"\\nMacron: \" + str(macron.get_character_count()['Character Count'].median()))\n",
    "print(\"\\nLe Pen: \" + str(lepen.get_character_count()['Character Count'].median()))"
   ]
  },
  {
   "cell_type": "code",
   "execution_count": 37,
   "id": "0ecead64",
   "metadata": {},
   "outputs": [
    {
     "data": {
      "text/plain": [
       "Sentiment\n",
       "neg    AxesSubplot(0.125,0.125;0.775x0.755)\n",
       "neu    AxesSubplot(0.125,0.125;0.775x0.755)\n",
       "pos    AxesSubplot(0.125,0.125;0.775x0.755)\n",
       "Name: Character Count, dtype: object"
      ]
     },
     "execution_count": 37,
     "metadata": {},
     "output_type": "execute_result"
    },
    {
     "data": {
      "image/png": "[encoded data removed]",
      "text/plain": [
       "<Figure size 1440x1080 with 1 Axes>"
      ]
     },
     "metadata": {
      "needs_background": "light"
     },
     "output_type": "display_data"
    }
   ],
   "source": [
    "sc.groupby('Sentiment')['Character Count'].plot(kind='density', legend=True, figsize=(20,15))"
   ]
  }
 ],
 "metadata": {
  "kernelspec": {
   "display_name": "Python 3 (ipykernel)",
   "language": "python",
   "name": "python3"
  },
  "language_info": {
   "codemirror_mode": {
    "name": "ipython",
    "version": 3
   },
   "file_extension": ".py",
   "mimetype": "text/x-python",
   "name": "python",
   "nbconvert_exporter": "python",
   "pygments_lexer": "ipython3",
   "version": "3.10.4"
  }
 },
 "nbformat": 4,
 "nbformat_minor": 5
}
