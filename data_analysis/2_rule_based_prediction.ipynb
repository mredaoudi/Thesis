{
 "cells": [
  {
   "cell_type": "code",
   "execution_count": 1,
   "id": "487d80ea",
   "metadata": {},
   "outputs": [],
   "source": [
    "import csv\n",
    "import pandas as pd\n",
    "from textblob import TextBlob\n",
    "from textblob_fr import PatternTagger, PatternAnalyzer\n",
    "from vaderSentiment_fr.vaderSentiment import SentimentIntensityAnalyzer"
   ]
  },
  {
   "cell_type": "code",
   "execution_count": 2,
   "id": "072f3833",
   "metadata": {},
   "outputs": [],
   "source": [
    "def test_data():\n",
    "    return pd.read_csv('../data/csv/test.csv').dropna()\n",
    "\n",
    "def macron_data():\n",
    "    return pd.read_csv('../data/csv/prediction_macron.csv').dropna()\n",
    "\n",
    "def lepen_data():\n",
    "    return pd.read_csv('../data/csv/prediction_lepen.csv').dropna()"
   ]
  },
  {
   "cell_type": "code",
   "execution_count": 3,
   "id": "133d1c61",
   "metadata": {},
   "outputs": [],
   "source": [
    "SIA = SentimentIntensityAnalyzer()\n",
    "\n",
    "def vader_sentiment(text):\n",
    "    vader_scores = SIA.polarity_scores(text)\n",
    "    if vader_scores['compound'] > 0.05:\n",
    "        return 'pos'\n",
    "    elif vader_scores['compound'] < -0.05:\n",
    "        return 'neg'\n",
    "    return 'neu'\n",
    "\n",
    "def textblob_sentiment(text):\n",
    "    textblob_scores = TextBlob(text, pos_tagger=PatternTagger(), analyzer=PatternAnalyzer()).sentiment\n",
    "    if textblob_scores[0] > 0.1:\n",
    "        return 'pos'\n",
    "    elif textblob_scores[0] < -0.1:\n",
    "        return 'neg'\n",
    "    return 'neu'"
   ]
  },
  {
   "cell_type": "code",
   "execution_count": 4,
   "id": "9596194c",
   "metadata": {},
   "outputs": [],
   "source": [
    "def apply_classifier(df, classifier):\n",
    "    df['pred'] = df['text'].apply(classifier)\n",
    "    return df"
   ]
  },
  {
   "cell_type": "markdown",
   "id": "b0a6175c",
   "metadata": {},
   "source": [
    "## Test VADER and TextBlob accuracy with the Test set"
   ]
  },
  {
   "cell_type": "code",
   "execution_count": 5,
   "id": "034c0f77",
   "metadata": {},
   "outputs": [],
   "source": [
    "from helper import accuracy"
   ]
  },
  {
   "cell_type": "code",
   "execution_count": 6,
   "id": "06db4965",
   "metadata": {},
   "outputs": [],
   "source": [
    "vader_test = apply_classifier(test_data(), vader_sentiment)\n",
    "textblob_test = apply_classifier(test_data(), textblob_sentiment)"
   ]
  },
  {
   "cell_type": "code",
   "execution_count": 7,
   "id": "14471414",
   "metadata": {},
   "outputs": [
    {
     "name": "stdout",
     "output_type": "stream",
     "text": [
      "Accuracy: 39.578\n",
      "Macro F1-score: 39.166\n"
     ]
    },
    {
     "data": {
      "text/plain": [
       "<sklearn.metrics._plot.confusion_matrix.ConfusionMatrixDisplay at 0x7f23b7941e70>"
      ]
     },
     "execution_count": 7,
     "metadata": {},
     "output_type": "execute_result"
    },
    {
     "data": {
      "image/png": "[encoded data removed]",
      "text/plain": [
       "<Figure size 432x288 with 2 Axes>"
      ]
     },
     "metadata": {
      "needs_background": "light"
     },
     "output_type": "display_data"
    }
   ],
   "source": [
    "accuracy(vader_test)"
   ]
  },
  {
   "cell_type": "code",
   "execution_count": 8,
   "id": "48241939",
   "metadata": {},
   "outputs": [
    {
     "name": "stdout",
     "output_type": "stream",
     "text": [
      "Accuracy: 45.781\n",
      "Macro F1-score: 37.021\n"
     ]
    },
    {
     "data": {
      "text/plain": [
       "<sklearn.metrics._plot.confusion_matrix.ConfusionMatrixDisplay at 0x7f23b6eb1c00>"
      ]
     },
     "execution_count": 8,
     "metadata": {},
     "output_type": "execute_result"
    },
    {
     "data": {
      "image/png": "[encoded data removed]",
      "text/plain": [
       "<Figure size 432x288 with 2 Axes>"
      ]
     },
     "metadata": {
      "needs_background": "light"
     },
     "output_type": "display_data"
    }
   ],
   "source": [
    "accuracy(textblob_test)"
   ]
  },
  {
   "cell_type": "markdown",
   "id": "52ed9bcf",
   "metadata": {},
   "source": [
    "## Predict the winner using VADER and TextBlob"
   ]
  },
  {
   "cell_type": "code",
   "execution_count": 9,
   "id": "d524f4cb",
   "metadata": {},
   "outputs": [],
   "source": [
    "def display(df):\n",
    "    df = df.groupby('pred').count()\n",
    "    df['percent'] = ((df['text'] / df['text'].sum()) * 100).round(2)\n",
    "    return df"
   ]
  },
  {
   "cell_type": "markdown",
   "id": "77a7a7bf",
   "metadata": {},
   "source": [
    "#### Macron"
   ]
  },
  {
   "cell_type": "code",
   "execution_count": 10,
   "id": "8822f959",
   "metadata": {},
   "outputs": [],
   "source": [
    "macron_vader = apply_classifier(macron_data(), vader_sentiment)\n",
    "macron_textblob = apply_classifier(macron_data(), textblob_sentiment)"
   ]
  },
  {
   "cell_type": "code",
   "execution_count": 11,
   "id": "1f5a0085",
   "metadata": {
    "scrolled": true
   },
   "outputs": [
    {
     "data": {
      "text/html": [
       "<div>\n",
       "<style scoped>\n",
       "    .dataframe tbody tr th:only-of-type {\n",
       "        vertical-align: middle;\n",
       "    }\n",
       "\n",
       "    .dataframe tbody tr th {\n",
       "        vertical-align: top;\n",
       "    }\n",
       "\n",
       "    .dataframe thead th {\n",
       "        text-align: right;\n",
       "    }\n",
       "</style>\n",
       "<table border=\"1\" class=\"dataframe\">\n",
       "  <thead>\n",
       "    <tr style=\"text-align: right;\">\n",
       "      <th></th>\n",
       "      <th>text</th>\n",
       "      <th>percent</th>\n",
       "    </tr>\n",
       "    <tr>\n",
       "      <th>pred</th>\n",
       "      <th></th>\n",
       "      <th></th>\n",
       "    </tr>\n",
       "  </thead>\n",
       "  <tbody>\n",
       "    <tr>\n",
       "      <th>neg</th>\n",
       "      <td>600</td>\n",
       "      <td>39.19</td>\n",
       "    </tr>\n",
       "    <tr>\n",
       "      <th>neu</th>\n",
       "      <td>414</td>\n",
       "      <td>27.04</td>\n",
       "    </tr>\n",
       "    <tr>\n",
       "      <th>pos</th>\n",
       "      <td>517</td>\n",
       "      <td>33.77</td>\n",
       "    </tr>\n",
       "  </tbody>\n",
       "</table>\n",
       "</div>"
      ],
      "text/plain": [
       "      text  percent\n",
       "pred               \n",
       "neg    600    39.19\n",
       "neu    414    27.04\n",
       "pos    517    33.77"
      ]
     },
     "execution_count": 11,
     "metadata": {},
     "output_type": "execute_result"
    }
   ],
   "source": [
    "display(macron_vader)"
   ]
  },
  {
   "cell_type": "code",
   "execution_count": 12,
   "id": "6fb9aff9",
   "metadata": {},
   "outputs": [
    {
     "data": {
      "text/html": [
       "<div>\n",
       "<style scoped>\n",
       "    .dataframe tbody tr th:only-of-type {\n",
       "        vertical-align: middle;\n",
       "    }\n",
       "\n",
       "    .dataframe tbody tr th {\n",
       "        vertical-align: top;\n",
       "    }\n",
       "\n",
       "    .dataframe thead th {\n",
       "        text-align: right;\n",
       "    }\n",
       "</style>\n",
       "<table border=\"1\" class=\"dataframe\">\n",
       "  <thead>\n",
       "    <tr style=\"text-align: right;\">\n",
       "      <th></th>\n",
       "      <th>text</th>\n",
       "      <th>percent</th>\n",
       "    </tr>\n",
       "    <tr>\n",
       "      <th>pred</th>\n",
       "      <th></th>\n",
       "      <th></th>\n",
       "    </tr>\n",
       "  </thead>\n",
       "  <tbody>\n",
       "    <tr>\n",
       "      <th>neg</th>\n",
       "      <td>185</td>\n",
       "      <td>12.08</td>\n",
       "    </tr>\n",
       "    <tr>\n",
       "      <th>neu</th>\n",
       "      <td>909</td>\n",
       "      <td>59.37</td>\n",
       "    </tr>\n",
       "    <tr>\n",
       "      <th>pos</th>\n",
       "      <td>437</td>\n",
       "      <td>28.54</td>\n",
       "    </tr>\n",
       "  </tbody>\n",
       "</table>\n",
       "</div>"
      ],
      "text/plain": [
       "      text  percent\n",
       "pred               \n",
       "neg    185    12.08\n",
       "neu    909    59.37\n",
       "pos    437    28.54"
      ]
     },
     "execution_count": 12,
     "metadata": {},
     "output_type": "execute_result"
    }
   ],
   "source": [
    "display(macron_textblob)"
   ]
  },
  {
   "cell_type": "markdown",
   "id": "fa5eadfc",
   "metadata": {},
   "source": [
    "#### Le Pen"
   ]
  },
  {
   "cell_type": "code",
   "execution_count": 13,
   "id": "a8948a34",
   "metadata": {},
   "outputs": [],
   "source": [
    "lepen_vader = apply_classifier(lepen_data(), vader_sentiment)\n",
    "lepen_textblob = apply_classifier(lepen_data(), textblob_sentiment)"
   ]
  },
  {
   "cell_type": "code",
   "execution_count": 14,
   "id": "a2ea58b4",
   "metadata": {},
   "outputs": [
    {
     "data": {
      "text/html": [
       "<div>\n",
       "<style scoped>\n",
       "    .dataframe tbody tr th:only-of-type {\n",
       "        vertical-align: middle;\n",
       "    }\n",
       "\n",
       "    .dataframe tbody tr th {\n",
       "        vertical-align: top;\n",
       "    }\n",
       "\n",
       "    .dataframe thead th {\n",
       "        text-align: right;\n",
       "    }\n",
       "</style>\n",
       "<table border=\"1\" class=\"dataframe\">\n",
       "  <thead>\n",
       "    <tr style=\"text-align: right;\">\n",
       "      <th></th>\n",
       "      <th>text</th>\n",
       "      <th>percent</th>\n",
       "    </tr>\n",
       "    <tr>\n",
       "      <th>pred</th>\n",
       "      <th></th>\n",
       "      <th></th>\n",
       "    </tr>\n",
       "  </thead>\n",
       "  <tbody>\n",
       "    <tr>\n",
       "      <th>neg</th>\n",
       "      <td>488</td>\n",
       "      <td>31.40</td>\n",
       "    </tr>\n",
       "    <tr>\n",
       "      <th>neu</th>\n",
       "      <td>515</td>\n",
       "      <td>33.14</td>\n",
       "    </tr>\n",
       "    <tr>\n",
       "      <th>pos</th>\n",
       "      <td>551</td>\n",
       "      <td>35.46</td>\n",
       "    </tr>\n",
       "  </tbody>\n",
       "</table>\n",
       "</div>"
      ],
      "text/plain": [
       "      text  percent\n",
       "pred               \n",
       "neg    488    31.40\n",
       "neu    515    33.14\n",
       "pos    551    35.46"
      ]
     },
     "execution_count": 14,
     "metadata": {},
     "output_type": "execute_result"
    }
   ],
   "source": [
    "display(lepen_vader)"
   ]
  },
  {
   "cell_type": "code",
   "execution_count": 15,
   "id": "9d78d31e",
   "metadata": {},
   "outputs": [
    {
     "data": {
      "text/html": [
       "<div>\n",
       "<style scoped>\n",
       "    .dataframe tbody tr th:only-of-type {\n",
       "        vertical-align: middle;\n",
       "    }\n",
       "\n",
       "    .dataframe tbody tr th {\n",
       "        vertical-align: top;\n",
       "    }\n",
       "\n",
       "    .dataframe thead th {\n",
       "        text-align: right;\n",
       "    }\n",
       "</style>\n",
       "<table border=\"1\" class=\"dataframe\">\n",
       "  <thead>\n",
       "    <tr style=\"text-align: right;\">\n",
       "      <th></th>\n",
       "      <th>text</th>\n",
       "      <th>percent</th>\n",
       "    </tr>\n",
       "    <tr>\n",
       "      <th>pred</th>\n",
       "      <th></th>\n",
       "      <th></th>\n",
       "    </tr>\n",
       "  </thead>\n",
       "  <tbody>\n",
       "    <tr>\n",
       "      <th>neg</th>\n",
       "      <td>158</td>\n",
       "      <td>10.17</td>\n",
       "    </tr>\n",
       "    <tr>\n",
       "      <th>neu</th>\n",
       "      <td>960</td>\n",
       "      <td>61.78</td>\n",
       "    </tr>\n",
       "    <tr>\n",
       "      <th>pos</th>\n",
       "      <td>436</td>\n",
       "      <td>28.06</td>\n",
       "    </tr>\n",
       "  </tbody>\n",
       "</table>\n",
       "</div>"
      ],
      "text/plain": [
       "      text  percent\n",
       "pred               \n",
       "neg    158    10.17\n",
       "neu    960    61.78\n",
       "pos    436    28.06"
      ]
     },
     "execution_count": 15,
     "metadata": {},
     "output_type": "execute_result"
    }
   ],
   "source": [
    "display(lepen_textblob)"
   ]
  }
 ],
 "metadata": {
  "kernelspec": {
   "display_name": "Python 3 (ipykernel)",
   "language": "python",
   "name": "python3"
  },
  "language_info": {
   "codemirror_mode": {
    "name": "ipython",
    "version": 3
   },
   "file_extension": ".py",
   "mimetype": "text/x-python",
   "name": "python",
   "nbconvert_exporter": "python",
   "pygments_lexer": "ipython3",
   "version": "3.10.4"
  }
 },
 "nbformat": 4,
 "nbformat_minor": 5
}
