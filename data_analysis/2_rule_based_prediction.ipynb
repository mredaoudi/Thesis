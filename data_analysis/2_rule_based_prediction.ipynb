{
 "cells": [
  {
   "cell_type": "code",
   "execution_count": 12,
   "id": "487d80ea",
   "metadata": {},
   "outputs": [],
   "source": [
    "import json\n",
    "import pandas as pd\n",
    "from textblob import TextBlob\n",
    "from textblob_fr import PatternTagger, PatternAnalyzer\n",
    "from vaderSentiment_fr.vaderSentiment import SentimentIntensityAnalyzer"
   ]
  },
  {
   "cell_type": "code",
   "execution_count": 13,
   "id": "3008a6cd",
   "metadata": {},
   "outputs": [],
   "source": [
    "SIA = SentimentIntensityAnalyzer()"
   ]
  },
  {
   "cell_type": "code",
   "execution_count": 14,
   "id": "b52dcf45",
   "metadata": {},
   "outputs": [],
   "source": [
    "def load_json_data(dataset_name):\n",
    "    return json.load(open('../data/' + dataset_name + '.json'))"
   ]
  },
  {
   "cell_type": "code",
   "execution_count": 15,
   "id": "600d761f",
   "metadata": {},
   "outputs": [],
   "source": [
    "def preprocess_tweet(tweet_text):\n",
    "    return tweet_text"
   ]
  },
  {
   "cell_type": "code",
   "execution_count": 16,
   "id": "4c0206e5",
   "metadata": {},
   "outputs": [],
   "source": [
    "def extract_tweets(dataset_name):\n",
    "    dataset = load_json_data(dataset_name)\n",
    "    load = {}\n",
    "    for tweet, details in dataset.items():\n",
    "        if details['tweet_data']:\n",
    "            load[tweet] = preprocess_tweet(details['tweet_data']['text'])\n",
    "        else:\n",
    "            load[tweet] = details['previous_processed_text']\n",
    "    return load"
   ]
  },
  {
   "cell_type": "code",
   "execution_count": 17,
   "id": "792c34ad",
   "metadata": {},
   "outputs": [],
   "source": [
    "def get_labels_rule_based(tweet_text):\n",
    "    vader_scores = SIA.polarity_scores(tweet_text)\n",
    "    textblob_scores = TextBlob(tweet_text, pos_tagger=PatternTagger(), analyzer=PatternAnalyzer()).sentiment\n",
    "    if vader_scores['compound'] > 0.05:\n",
    "        vader_label = 'pos'\n",
    "    elif vader_scores['compound'] < -0.05:\n",
    "        vader_label = 'neg'\n",
    "    else:\n",
    "        vader_label = 'neu'\n",
    "    if textblob_scores[0] > 0.1:\n",
    "        textblob_label = 'pos'\n",
    "    elif textblob_scores[0] < -0.1:\n",
    "        textblob_label = 'neg'\n",
    "    else:\n",
    "        textblob_label = 'neu'\n",
    "    return (vader_label, textblob_label)"
   ]
  },
  {
   "cell_type": "code",
   "execution_count": 45,
   "id": "072f3833",
   "metadata": {},
   "outputs": [],
   "source": [
    "def training_sentiment():\n",
    "    dataset = extract_tweets('training')\n",
    "    training = load_json_data('training')\n",
    "    #tweet_ids = []\n",
    "    tweet_texts = []\n",
    "    training_labels = []\n",
    "    \n",
    "    for tweet in dataset:\n",
    "        #tweet_ids.append(tweet)\n",
    "        tweet_texts.append(dataset[tweet])\n",
    "        training_labels.append(training[tweet]['sentiment_label'])\n",
    "    #return pd.DataFrame({'Tweet ID': tweet_ids,\n",
    "    #                     'Tweet Text': tweet_texts,\n",
    "    #                     'Training Labels': training_labels})\n",
    "    return pd.DataFrame({'Training Labels': training_labels})"
   ]
  },
  {
   "cell_type": "code",
   "execution_count": 46,
   "id": "4a319702",
   "metadata": {},
   "outputs": [],
   "source": [
    "def rule_based_sentiment(dataset_name):\n",
    "    dataset = extract_tweets(dataset_name)\n",
    "    #tweet_ids = []\n",
    "    tweet_texts = []\n",
    "    vader_labels = []\n",
    "    textblob_labels = []\n",
    "    \n",
    "    for tweet in dataset:\n",
    "        #tweet_ids.append(tweet)\n",
    "        tweet_texts.append(dataset[tweet])\n",
    "        rule_based_labels = get_labels_rule_based(dataset[tweet])\n",
    "        vader_labels.append(rule_based_labels[0])\n",
    "        textblob_labels.append(rule_based_labels[1])\n",
    "        \n",
    "    #return pd.DataFrame({'Tweet ID': tweet_ids,\n",
    "    #                     'Tweet Text': tweet_texts,\n",
    "    #                     'VADER Labels': vader_labels,\n",
    "    #                     'TextBlob Labels': textblob_labels})\n",
    "    return pd.DataFrame({'VADER Labels': vader_labels,\n",
    "                         'TextBlob Labels': textblob_labels})"
   ]
  },
  {
   "cell_type": "code",
   "execution_count": 47,
   "id": "d93e4be0",
   "metadata": {},
   "outputs": [],
   "source": [
    "real_training = training_sentiment()\n",
    "rule_based_training = rule_based_sentiment('training')\n",
    "rule_based_prediction_macron = rule_based_sentiment('prediction_macron')\n",
    "rule_based_prediction_lepen = rule_based_sentiment('prediction_lepen')"
   ]
  },
  {
   "cell_type": "code",
   "execution_count": 50,
   "id": "2d7a2c33",
   "metadata": {},
   "outputs": [],
   "source": [
    "joined = pd.concat([real_training, rule_based_training], axis=1)\n",
    "joined = joined.loc[:,~joined.columns.duplicated()]"
   ]
  },
  {
   "cell_type": "code",
   "execution_count": 51,
   "id": "c375d9eb",
   "metadata": {},
   "outputs": [
    {
     "data": {
      "text/html": [
       "<div>\n",
       "<style scoped>\n",
       "    .dataframe tbody tr th:only-of-type {\n",
       "        vertical-align: middle;\n",
       "    }\n",
       "\n",
       "    .dataframe tbody tr th {\n",
       "        vertical-align: top;\n",
       "    }\n",
       "\n",
       "    .dataframe thead th {\n",
       "        text-align: right;\n",
       "    }\n",
       "</style>\n",
       "<table border=\"1\" class=\"dataframe\">\n",
       "  <thead>\n",
       "    <tr style=\"text-align: right;\">\n",
       "      <th></th>\n",
       "      <th>Training Labels</th>\n",
       "      <th>VADER Labels</th>\n",
       "      <th>TextBlob Labels</th>\n",
       "    </tr>\n",
       "  </thead>\n",
       "  <tbody>\n",
       "    <tr>\n",
       "      <th>6</th>\n",
       "      <td>neg</td>\n",
       "      <td>neg</td>\n",
       "      <td>neg</td>\n",
       "    </tr>\n",
       "    <tr>\n",
       "      <th>15</th>\n",
       "      <td>neu</td>\n",
       "      <td>neu</td>\n",
       "      <td>neu</td>\n",
       "    </tr>\n",
       "    <tr>\n",
       "      <th>25</th>\n",
       "      <td>neg</td>\n",
       "      <td>neg</td>\n",
       "      <td>neg</td>\n",
       "    </tr>\n",
       "    <tr>\n",
       "      <th>28</th>\n",
       "      <td>pos</td>\n",
       "      <td>pos</td>\n",
       "      <td>pos</td>\n",
       "    </tr>\n",
       "    <tr>\n",
       "      <th>29</th>\n",
       "      <td>neu</td>\n",
       "      <td>neu</td>\n",
       "      <td>neu</td>\n",
       "    </tr>\n",
       "    <tr>\n",
       "      <th>...</th>\n",
       "      <td>...</td>\n",
       "      <td>...</td>\n",
       "      <td>...</td>\n",
       "    </tr>\n",
       "    <tr>\n",
       "      <th>8568</th>\n",
       "      <td>neu</td>\n",
       "      <td>neu</td>\n",
       "      <td>neu</td>\n",
       "    </tr>\n",
       "    <tr>\n",
       "      <th>8582</th>\n",
       "      <td>neg</td>\n",
       "      <td>neg</td>\n",
       "      <td>neg</td>\n",
       "    </tr>\n",
       "    <tr>\n",
       "      <th>8584</th>\n",
       "      <td>pos</td>\n",
       "      <td>pos</td>\n",
       "      <td>pos</td>\n",
       "    </tr>\n",
       "    <tr>\n",
       "      <th>8586</th>\n",
       "      <td>pos</td>\n",
       "      <td>pos</td>\n",
       "      <td>pos</td>\n",
       "    </tr>\n",
       "    <tr>\n",
       "      <th>8588</th>\n",
       "      <td>neu</td>\n",
       "      <td>neu</td>\n",
       "      <td>neu</td>\n",
       "    </tr>\n",
       "  </tbody>\n",
       "</table>\n",
       "<p>1794 rows × 3 columns</p>\n",
       "</div>"
      ],
      "text/plain": [
       "     Training Labels VADER Labels TextBlob Labels\n",
       "6                neg          neg             neg\n",
       "15               neu          neu             neu\n",
       "25               neg          neg             neg\n",
       "28               pos          pos             pos\n",
       "29               neu          neu             neu\n",
       "...              ...          ...             ...\n",
       "8568             neu          neu             neu\n",
       "8582             neg          neg             neg\n",
       "8584             pos          pos             pos\n",
       "8586             pos          pos             pos\n",
       "8588             neu          neu             neu\n",
       "\n",
       "[1794 rows x 3 columns]"
      ]
     },
     "execution_count": 51,
     "metadata": {},
     "output_type": "execute_result"
    }
   ],
   "source": [
    "joined[joined.apply(lambda x: min(x) == max(x), 1)]"
   ]
  },
  {
   "cell_type": "code",
   "execution_count": null,
   "id": "79e2b177",
   "metadata": {},
   "outputs": [],
   "source": []
  }
 ],
 "metadata": {
  "kernelspec": {
   "display_name": "Python 3 (ipykernel)",
   "language": "python",
   "name": "python3"
  },
  "language_info": {
   "codemirror_mode": {
    "name": "ipython",
    "version": 3
   },
   "file_extension": ".py",
   "mimetype": "text/x-python",
   "name": "python",
   "nbconvert_exporter": "python",
   "pygments_lexer": "ipython3",
   "version": "3.10.4"
  }
 },
 "nbformat": 4,
 "nbformat_minor": 5
}
