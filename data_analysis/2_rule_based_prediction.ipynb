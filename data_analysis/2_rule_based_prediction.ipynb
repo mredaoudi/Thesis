{
 "cells": [
  {
   "cell_type": "code",
   "execution_count": 1,
   "id": "487d80ea",
   "metadata": {},
   "outputs": [
    {
     "name": "stdout",
     "output_type": "stream",
     "text": [
      "1534\n"
     ]
    }
   ],
   "source": [
    "from lexicon import Lexicons\n",
    "from helper import reload_preprocess\n",
    "from results import accuracy, outcome"
   ]
  },
  {
   "cell_type": "code",
   "execution_count": 2,
   "id": "497e127e",
   "metadata": {},
   "outputs": [],
   "source": [
    "reload_preprocess()"
   ]
  },
  {
   "cell_type": "markdown",
   "id": "b0a6175c",
   "metadata": {},
   "source": [
    "## Test VADER and TextBlob accuracy with the test dataset"
   ]
  },
  {
   "cell_type": "code",
   "execution_count": 3,
   "id": "034c0f77",
   "metadata": {},
   "outputs": [],
   "source": [
    "lexicon_test = Lexicons('test')"
   ]
  },
  {
   "cell_type": "code",
   "execution_count": 4,
   "id": "f0d76a12",
   "metadata": {},
   "outputs": [
    {
     "name": "stdout",
     "output_type": "stream",
     "text": [
      "       text  percent\n",
      "vader               \n",
      "neg     536    31.22\n",
      "neu     505    29.41\n",
      "pos     676    39.37\n",
      "\n",
      "\n",
      "Accuracy: 39.779\n",
      "Macro F1-score: 40.884\n",
      "Precision: 51.789\n",
      "Recall: 39.779\n",
      "              precision    recall  f1-score   support\n",
      "\n",
      "    Positive       0.25      0.48      0.33       351\n",
      "     Neutral       0.67      0.32      0.43      1044\n",
      "    Negative       0.33      0.55      0.41       322\n",
      "\n",
      "    accuracy                           0.40      1717\n",
      "   macro avg       0.42      0.45      0.39      1717\n",
      "weighted avg       0.52      0.40      0.41      1717\n",
      "\n",
      "<sklearn.metrics._plot.confusion_matrix.ConfusionMatrixDisplay object at 0x7f70275074f0>\n"
     ]
    },
    {
     "data": {
      "text/plain": [
       "True"
      ]
     },
     "execution_count": 4,
     "metadata": {},
     "output_type": "execute_result"
    },
    {
     "data": {
      "image/png": "[encoded data removed]",
      "text/plain": [
       "<Figure size 432x288 with 2 Axes>"
      ]
     },
     "metadata": {
      "needs_background": "light"
     },
     "output_type": "display_data"
    }
   ],
   "source": [
    "outcome(lexicon_test.df.drop(columns=['label','textblob'], axis=1), 'vader', test=True)\n",
    "print('\\n')\n",
    "accuracy(lexicon_test.df['label'], lexicon_test.df['vader'])"
   ]
  },
  {
   "cell_type": "code",
   "execution_count": 5,
   "id": "82e5c56a",
   "metadata": {},
   "outputs": [
    {
     "name": "stdout",
     "output_type": "stream",
     "text": [
      "          text  percent\n",
      "textblob               \n",
      "neg        180    10.48\n",
      "neu        906    52.77\n",
      "pos        631    36.75\n",
      "\n",
      "\n",
      "Accuracy: 43.273\n",
      "Macro F1-score: 44.125\n",
      "Precision: 47.080\n",
      "Recall: 43.273\n",
      "              precision    recall  f1-score   support\n",
      "\n",
      "    Positive       0.22      0.40      0.29       351\n",
      "     Neutral       0.60      0.52      0.56      1044\n",
      "    Negative       0.31      0.17      0.22       322\n",
      "\n",
      "    accuracy                           0.43      1717\n",
      "   macro avg       0.38      0.37      0.36      1717\n",
      "weighted avg       0.47      0.43      0.44      1717\n",
      "\n",
      "<sklearn.metrics._plot.confusion_matrix.ConfusionMatrixDisplay object at 0x7f70276336a0>\n"
     ]
    },
    {
     "data": {
      "text/plain": [
       "True"
      ]
     },
     "execution_count": 5,
     "metadata": {},
     "output_type": "execute_result"
    },
    {
     "data": {
      "image/png": "[encoded data removed]",
      "text/plain": [
       "<Figure size 432x288 with 2 Axes>"
      ]
     },
     "metadata": {
      "needs_background": "light"
     },
     "output_type": "display_data"
    }
   ],
   "source": [
    "outcome(lexicon_test.df.drop(columns=['label','vader'], axis=1), 'textblob', test=True)\n",
    "print('\\n')\n",
    "accuracy(lexicon_test.df['label'], lexicon_test.df['textblob'])"
   ]
  },
  {
   "cell_type": "markdown",
   "id": "52ed9bcf",
   "metadata": {},
   "source": [
    "## Predict the winner using VADER and TextBlob"
   ]
  },
  {
   "cell_type": "code",
   "execution_count": 6,
   "id": "8822f959",
   "metadata": {},
   "outputs": [],
   "source": [
    "lexicon_prediction_macron = Lexicons('prediction_macron')\n",
    "lexicon_prediction_lepen = Lexicons('prediction_lepen')"
   ]
  },
  {
   "cell_type": "code",
   "execution_count": 7,
   "id": "9085e581",
   "metadata": {},
   "outputs": [],
   "source": [
    "macron_count = len(lexicon_prediction_macron.df)\n",
    "lepen_count = len(lexicon_prediction_lepen.df)"
   ]
  },
  {
   "cell_type": "markdown",
   "id": "6731f592",
   "metadata": {},
   "source": [
    "#### VADER"
   ]
  },
  {
   "cell_type": "code",
   "execution_count": 8,
   "id": "1f5a0085",
   "metadata": {
    "scrolled": true
   },
   "outputs": [
    {
     "name": "stdout",
     "output_type": "stream",
     "text": [
      "       text  percent\n",
      "vader               \n",
      "neg     593    38.76\n",
      "neu     413    26.99\n",
      "pos     524    34.25\n",
      "0.234327116234983\n",
      "       text  percent\n",
      "vader               \n",
      "neg     485    31.64\n",
      "neu     507    33.07\n",
      "pos     541    35.29\n",
      "0.2639034467221487\n"
     ]
    }
   ],
   "source": [
    "outcome(lexicon_prediction_macron.df.drop(columns='textblob', axis=1), 'vader', macron_count, lepen_count)\n",
    "outcome(lexicon_prediction_lepen.df.drop(columns='textblob', axis=1), 'vader', lepen_count, macron_count)"
   ]
  },
  {
   "cell_type": "markdown",
   "id": "fa5eadfc",
   "metadata": {},
   "source": [
    "#### TextBlob"
   ]
  },
  {
   "cell_type": "code",
   "execution_count": 9,
   "id": "a2ea58b4",
   "metadata": {},
   "outputs": [
    {
     "name": "stdout",
     "output_type": "stream",
     "text": [
      "          text  percent\n",
      "textblob               \n",
      "neg        197    12.88\n",
      "neu        896    58.56\n",
      "pos        437    28.56\n",
      "0.3442996752735149\n",
      "          text  percent\n",
      "textblob               \n",
      "neg        166    10.83\n",
      "neu        939    61.25\n",
      "pos        428    27.92\n",
      "0.36062221958402174\n"
     ]
    }
   ],
   "source": [
    "outcome(lexicon_prediction_macron.df.drop(columns='vader', axis=1), 'textblob', macron_count, lepen_count)\n",
    "outcome(lexicon_prediction_lepen.df.drop(columns='vader', axis=1), 'textblob', lepen_count, macron_count)"
   ]
  }
 ],
 "metadata": {
  "kernelspec": {
   "display_name": "Python 3 (ipykernel)",
   "language": "python",
   "name": "python3"
  },
  "language_info": {
   "codemirror_mode": {
    "name": "ipython",
    "version": 3
   },
   "file_extension": ".py",
   "mimetype": "text/x-python",
   "name": "python",
   "nbconvert_exporter": "python",
   "pygments_lexer": "ipython3",
   "version": "3.10.4"
  }
 },
 "nbformat": 4,
 "nbformat_minor": 5
}
