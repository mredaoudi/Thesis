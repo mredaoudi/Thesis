{
 "cells": [
  {
   "cell_type": "code",
   "execution_count": 1,
   "id": "1ecd4d4d",
   "metadata": {},
   "outputs": [
    {
     "name": "stdout",
     "output_type": "stream",
     "text": [
      "1534\n"
     ]
    }
   ],
   "source": [
    "import csv\n",
    "import pandas as pd\n",
    "from helper import reload_preprocess\n",
    "from learning import Learner\n",
    "from results import accuracy, outcome\n",
    "from sklearn.feature_extraction.text import TfidfVectorizer"
   ]
  },
  {
   "cell_type": "code",
   "execution_count": 2,
   "id": "33a3e675",
   "metadata": {},
   "outputs": [],
   "source": [
    "reload_preprocess()"
   ]
  },
  {
   "cell_type": "code",
   "execution_count": 3,
   "id": "1b6bae2d",
   "metadata": {},
   "outputs": [
    {
     "data": {
      "text/html": [
       "<div>\n",
       "<style scoped>\n",
       "    .dataframe tbody tr th:only-of-type {\n",
       "        vertical-align: middle;\n",
       "    }\n",
       "\n",
       "    .dataframe tbody tr th {\n",
       "        vertical-align: top;\n",
       "    }\n",
       "\n",
       "    .dataframe thead th {\n",
       "        text-align: right;\n",
       "    }\n",
       "</style>\n",
       "<table border=\"1\" class=\"dataframe\">\n",
       "  <thead>\n",
       "    <tr style=\"text-align: right;\">\n",
       "      <th></th>\n",
       "      <th>tfidf_weights</th>\n",
       "    </tr>\n",
       "  </thead>\n",
       "  <tbody>\n",
       "    <tr>\n",
       "      <th>voter</th>\n",
       "      <td>2.059481</td>\n",
       "    </tr>\n",
       "    <tr>\n",
       "      <th>pas</th>\n",
       "      <td>2.336021</td>\n",
       "    </tr>\n",
       "    <tr>\n",
       "      <th>vote</th>\n",
       "      <td>2.420970</td>\n",
       "    </tr>\n",
       "    <tr>\n",
       "      <th>ne</th>\n",
       "      <td>2.532515</td>\n",
       "    </tr>\n",
       "    <tr>\n",
       "      <th>dimanche</th>\n",
       "      <td>2.691510</td>\n",
       "    </tr>\n",
       "    <tr>\n",
       "      <th>tour</th>\n",
       "      <td>3.331547</td>\n",
       "    </tr>\n",
       "    <tr>\n",
       "      <th>ça</th>\n",
       "      <td>3.437407</td>\n",
       "    </tr>\n",
       "    <tr>\n",
       "      <th>plus</th>\n",
       "      <td>3.544621</td>\n",
       "    </tr>\n",
       "    <tr>\n",
       "      <th>france</th>\n",
       "      <td>3.637893</td>\n",
       "    </tr>\n",
       "    <tr>\n",
       "      <th>élections</th>\n",
       "      <td>3.646073</td>\n",
       "    </tr>\n",
       "    <tr>\n",
       "      <th>faire</th>\n",
       "      <td>3.709654</td>\n",
       "    </tr>\n",
       "    <tr>\n",
       "      <th>ne pas</th>\n",
       "      <td>3.758991</td>\n",
       "    </tr>\n",
       "    <tr>\n",
       "      <th>va</th>\n",
       "      <td>3.815744</td>\n",
       "    </tr>\n",
       "    <tr>\n",
       "      <th>tous</th>\n",
       "      <td>3.865629</td>\n",
       "    </tr>\n",
       "    <tr>\n",
       "      <th>tout</th>\n",
       "      <td>3.888916</td>\n",
       "    </tr>\n",
       "    <tr>\n",
       "      <th>fait</th>\n",
       "      <td>3.942693</td>\n",
       "    </tr>\n",
       "    <tr>\n",
       "      <th>aller</th>\n",
       "      <td>3.990793</td>\n",
       "    </tr>\n",
       "    <tr>\n",
       "      <th>gens</th>\n",
       "      <td>4.059785</td>\n",
       "    </tr>\n",
       "    <tr>\n",
       "      <th>allez</th>\n",
       "      <td>4.091334</td>\n",
       "    </tr>\n",
       "    <tr>\n",
       "      <th>comme</th>\n",
       "      <td>4.120604</td>\n",
       "    </tr>\n",
       "  </tbody>\n",
       "</table>\n",
       "</div>"
      ],
      "text/plain": [
       "           tfidf_weights\n",
       "voter           2.059481\n",
       "pas             2.336021\n",
       "vote            2.420970\n",
       "ne              2.532515\n",
       "dimanche        2.691510\n",
       "tour            3.331547\n",
       "ça              3.437407\n",
       "plus            3.544621\n",
       "france          3.637893\n",
       "élections       3.646073\n",
       "faire           3.709654\n",
       "ne pas          3.758991\n",
       "va              3.815744\n",
       "tous            3.865629\n",
       "tout            3.888916\n",
       "fait            3.942693\n",
       "aller           3.990793\n",
       "gens            4.059785\n",
       "allez           4.091334\n",
       "comme           4.120604"
      ]
     },
     "execution_count": 3,
     "metadata": {},
     "output_type": "execute_result"
    }
   ],
   "source": [
    "train = pd.read_csv('../data/csv/training.csv').dropna()\n",
    "tfidf =  TfidfVectorizer(token_pattern=r'[^\\s]+', max_features=30000, ngram_range=(1, 2))\n",
    "X = tfidf.fit_transform(train['text'])\n",
    "pd.DataFrame(tfidf.idf_, tfidf.get_feature_names_out(), columns=[\"tfidf_weights\"]).sort_values('tfidf_weights').head(20)"
   ]
  },
  {
   "cell_type": "markdown",
   "id": "0207ea48",
   "metadata": {},
   "source": [
    "## Analyze and test the models on the test dataset"
   ]
  },
  {
   "cell_type": "code",
   "execution_count": 4,
   "id": "5d819cb5",
   "metadata": {
    "scrolled": false
   },
   "outputs": [],
   "source": [
    "learner_test = Learner('test')"
   ]
  },
  {
   "cell_type": "markdown",
   "id": "6fed705d",
   "metadata": {},
   "source": [
    "### Naïve Bayes"
   ]
  },
  {
   "cell_type": "code",
   "execution_count": 5,
   "id": "ed54dcb3",
   "metadata": {},
   "outputs": [
    {
     "name": "stdout",
     "output_type": "stream",
     "text": [
      "       text  label  percent\n",
      "bayes                      \n",
      "neg      96     96     5.59\n",
      "neu    1427   1427    83.11\n",
      "pos     194    194    11.30\n",
      "\n",
      "\n",
      "Accuracy: 66.511\n",
      "Macro F1-score: 61.855\n",
      "Precision: 65.174\n",
      "Recall: 66.511\n",
      "              precision    recall  f1-score   support\n",
      "\n",
      "    Positive       0.72      0.40      0.51       351\n",
      "     Neutral       0.67      0.91      0.77      1044\n",
      "    Negative       0.53      0.16      0.24       322\n",
      "\n",
      "    accuracy                           0.67      1717\n",
      "   macro avg       0.64      0.49      0.51      1717\n",
      "weighted avg       0.65      0.67      0.62      1717\n",
      "\n",
      "<sklearn.metrics._plot.confusion_matrix.ConfusionMatrixDisplay object at 0x7f5a8611f760>\n"
     ]
    },
    {
     "data": {
      "text/plain": [
       "True"
      ]
     },
     "execution_count": 5,
     "metadata": {},
     "output_type": "execute_result"
    },
    {
     "data": {
      "image/png": "[encoded data removed]",
      "text/plain": [
       "<Figure size 432x288 with 2 Axes>"
      ]
     },
     "metadata": {
      "needs_background": "light"
     },
     "output_type": "display_data"
    }
   ],
   "source": [
    "outcome(learner_test.df.drop(columns=['logistic','svm'], axis=1), 'bayes', test=True)\n",
    "print('\\n')\n",
    "accuracy(learner_test.df['label'], learner_test.df['bayes'])"
   ]
  },
  {
   "cell_type": "markdown",
   "id": "fd3ff99d",
   "metadata": {},
   "source": [
    "### Logistic Regression"
   ]
  },
  {
   "cell_type": "code",
   "execution_count": 6,
   "id": "27f23bdd",
   "metadata": {},
   "outputs": [
    {
     "name": "stdout",
     "output_type": "stream",
     "text": [
      "          text  label  percent\n",
      "logistic                      \n",
      "neg        353    353    20.56\n",
      "neu        997    997    58.07\n",
      "pos        367    367    21.37\n",
      "\n",
      "\n",
      "Accuracy: 63.192\n",
      "Macro F1-score: 63.477\n",
      "Precision: 63.855\n",
      "Recall: 63.192\n",
      "              precision    recall  f1-score   support\n",
      "\n",
      "    Positive       0.59      0.61      0.60       351\n",
      "     Neutral       0.72      0.69      0.71      1044\n",
      "    Negative       0.42      0.47      0.44       322\n",
      "\n",
      "    accuracy                           0.63      1717\n",
      "   macro avg       0.58      0.59      0.58      1717\n",
      "weighted avg       0.64      0.63      0.63      1717\n",
      "\n",
      "<sklearn.metrics._plot.confusion_matrix.ConfusionMatrixDisplay object at 0x7f5a84124250>\n"
     ]
    },
    {
     "data": {
      "text/plain": [
       "True"
      ]
     },
     "execution_count": 6,
     "metadata": {},
     "output_type": "execute_result"
    },
    {
     "data": {
      "image/png": "[encoded data removed]",
      "text/plain": [
       "<Figure size 432x288 with 2 Axes>"
      ]
     },
     "metadata": {
      "needs_background": "light"
     },
     "output_type": "display_data"
    }
   ],
   "source": [
    "outcome(learner_test.df.drop(columns=['bayes','svm'], axis=1), 'logistic', test=True)\n",
    "print('\\n')\n",
    "accuracy(learner_test.df['label'], learner_test.df['logistic'])"
   ]
  },
  {
   "cell_type": "markdown",
   "id": "249cfbfa",
   "metadata": {},
   "source": [
    "### Support Vector Machines"
   ]
  },
  {
   "cell_type": "code",
   "execution_count": 7,
   "id": "1caf759b",
   "metadata": {},
   "outputs": [
    {
     "name": "stdout",
     "output_type": "stream",
     "text": [
      "     text  label  percent\n",
      "svm                      \n",
      "neg   155    155     9.03\n",
      "neu  1296   1296    75.48\n",
      "pos   266    266    15.49\n",
      "\n",
      "\n",
      "Accuracy: 66.919\n",
      "Macro F1-score: 64.347\n",
      "Precision: 65.072\n",
      "Recall: 66.919\n",
      "              precision    recall  f1-score   support\n",
      "\n",
      "    Positive       0.66      0.50      0.57       351\n",
      "     Neutral       0.69      0.86      0.76      1044\n",
      "    Negative       0.52      0.25      0.34       322\n",
      "\n",
      "    accuracy                           0.67      1717\n",
      "   macro avg       0.62      0.53      0.56      1717\n",
      "weighted avg       0.65      0.67      0.64      1717\n",
      "\n",
      "<sklearn.metrics._plot.confusion_matrix.ConfusionMatrixDisplay object at 0x7f5a85c166b0>\n"
     ]
    },
    {
     "data": {
      "text/plain": [
       "True"
      ]
     },
     "execution_count": 7,
     "metadata": {},
     "output_type": "execute_result"
    },
    {
     "data": {
      "image/png": "[encoded data removed]",
      "text/plain": [
       "<Figure size 432x288 with 2 Axes>"
      ]
     },
     "metadata": {
      "needs_background": "light"
     },
     "output_type": "display_data"
    }
   ],
   "source": [
    "outcome(learner_test.df.drop(columns=['logistic','bayes'], axis=1), 'svm', test=True)\n",
    "print('\\n')\n",
    "accuracy(learner_test.df['label'], learner_test.df['svm'])"
   ]
  },
  {
   "cell_type": "markdown",
   "id": "7564f482",
   "metadata": {},
   "source": [
    "## Predict the winner using the models"
   ]
  },
  {
   "cell_type": "code",
   "execution_count": 8,
   "id": "1f06b3d2",
   "metadata": {},
   "outputs": [],
   "source": [
    "learner_prediction_macron = Learner('prediction_macron')\n",
    "learner_prediction_lepen = Learner('prediction_lepen')"
   ]
  },
  {
   "cell_type": "code",
   "execution_count": 9,
   "id": "5735f45e",
   "metadata": {},
   "outputs": [],
   "source": [
    "macron_count = len(learner_prediction_macron.df)\n",
    "lepen_count = len(learner_prediction_lepen.df)"
   ]
  },
  {
   "cell_type": "markdown",
   "id": "a209374b",
   "metadata": {},
   "source": [
    "#### Naïve Bayes"
   ]
  },
  {
   "cell_type": "code",
   "execution_count": 10,
   "id": "d1501659",
   "metadata": {},
   "outputs": [
    {
     "name": "stdout",
     "output_type": "stream",
     "text": [
      "       text  percent\n",
      "bayes               \n",
      "neg     101     6.60\n",
      "neu    1323    86.47\n",
      "pos     106     6.93\n",
      "0.2557878749166064\n",
      "       text  percent\n",
      "bayes               \n",
      "neg      91     5.94\n",
      "neu    1316    85.84\n",
      "pos     126     8.22\n",
      "0.29060693185049447\n"
     ]
    }
   ],
   "source": [
    "outcome(learner_prediction_macron.df.drop(columns=['logistic', 'svm'], axis=1), 'bayes', macron_count, lepen_count)\n",
    "outcome(learner_prediction_lepen.df.drop(columns=['logistic', 'svm'], axis=1), 'bayes', lepen_count, macron_count)"
   ]
  },
  {
   "cell_type": "markdown",
   "id": "ed6abd56",
   "metadata": {},
   "source": [
    "#### Logistic Regression"
   ]
  },
  {
   "cell_type": "code",
   "execution_count": 11,
   "id": "b6ec85d2",
   "metadata": {},
   "outputs": [
    {
     "name": "stdout",
     "output_type": "stream",
     "text": [
      "          text  percent\n",
      "logistic               \n",
      "neg        455    29.74\n",
      "neu        850    55.56\n",
      "pos        225    14.71\n",
      "0.16527913809990205\n",
      "          text  percent\n",
      "logistic               \n",
      "neg        360    23.48\n",
      "neu        922    60.14\n",
      "pos        251    16.37\n",
      "0.205602158276841\n"
     ]
    }
   ],
   "source": [
    "outcome(learner_prediction_macron.df.drop(columns=['bayes', 'svm'], axis=1), 'logistic', macron_count, lepen_count)\n",
    "outcome(learner_prediction_lepen.df.drop(columns=['bayes', 'svm'], axis=1), 'logistic', lepen_count, macron_count)"
   ]
  },
  {
   "cell_type": "markdown",
   "id": "b7336d6a",
   "metadata": {},
   "source": [
    "#### Support Vector Machines"
   ]
  },
  {
   "cell_type": "code",
   "execution_count": 12,
   "id": "78e3c9c3",
   "metadata": {},
   "outputs": [
    {
     "name": "stdout",
     "output_type": "stream",
     "text": [
      "     text  percent\n",
      "svm               \n",
      "neg   219    14.31\n",
      "neu  1153    75.36\n",
      "pos   158    10.33\n",
      "0.20934383256650133\n",
      "     text  percent\n",
      "svm               \n",
      "neg   175    11.42\n",
      "neu  1198    78.15\n",
      "pos   160    10.44\n",
      "0.23903986434136856\n"
     ]
    }
   ],
   "source": [
    "outcome(learner_prediction_macron.df.drop(columns=['bayes', 'logistic'], axis=1), 'svm', macron_count, lepen_count)\n",
    "outcome(learner_prediction_lepen.df.drop(columns=['bayes', 'logistic'], axis=1), 'svm', lepen_count, macron_count)"
   ]
  }
 ],
 "metadata": {
  "kernelspec": {
   "display_name": "Python 3 (ipykernel)",
   "language": "python",
   "name": "python3"
  },
  "language_info": {
   "codemirror_mode": {
    "name": "ipython",
    "version": 3
   },
   "file_extension": ".py",
   "mimetype": "text/x-python",
   "name": "python",
   "nbconvert_exporter": "python",
   "pygments_lexer": "ipython3",
   "version": "3.10.4"
  }
 },
 "nbformat": 4,
 "nbformat_minor": 5
}
