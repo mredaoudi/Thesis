{
 "cells": [
  {
   "cell_type": "code",
   "execution_count": 1,
   "id": "1ecd4d4d",
   "metadata": {},
   "outputs": [],
   "source": [
    "import csv\n",
    "import pandas as pd\n",
    "from sklearn.pipeline import Pipeline\n",
    "from sklearn.linear_model import SGDClassifier\n",
    "from sklearn.linear_model import LogisticRegression\n",
    "from sklearn.naive_bayes import MultinomialNB, GaussianNB\n",
    "from sklearn.feature_extraction.text import CountVectorizer, TfidfTransformer"
   ]
  },
  {
   "cell_type": "code",
   "execution_count": 2,
   "id": "ebffc212",
   "metadata": {},
   "outputs": [],
   "source": [
    "def test_data():\n",
    "    return pd.read_csv('../data/csv/test.csv').dropna()\n",
    "\n",
    "def macron_data():\n",
    "    return pd.read_csv('../data/csv/prediction_macron.csv').dropna()\n",
    "\n",
    "def lepen_data():\n",
    "    return pd.read_csv('../data/csv/prediction_lepen.csv').dropna()"
   ]
  },
  {
   "cell_type": "code",
   "execution_count": 3,
   "id": "88b47ea3",
   "metadata": {},
   "outputs": [],
   "source": [
    "train = pd.read_csv('../data/csv/training.csv').dropna()"
   ]
  },
  {
   "cell_type": "code",
   "execution_count": 4,
   "id": "5ab05a1d",
   "metadata": {},
   "outputs": [],
   "source": [
    "def logistic():\n",
    "    return Pipeline(\n",
    "        [('vect', CountVectorizer(token_pattern=r'[^\\s]+')),\n",
    "         ('tfidf', TfidfTransformer()),\n",
    "         ('clf', LogisticRegression(\n",
    "             solver='newton-cg',\n",
    "             multi_class='multinomial',\n",
    "             random_state=42,\n",
    "             max_iter=100,)\n",
    "         )\n",
    "        ]\n",
    "    )\n",
    "\n",
    "def bayes():\n",
    "    return Pipeline(\n",
    "        [('vect', CountVectorizer(token_pattern=r'[^\\s]+')),\n",
    "         ('tfidf', TfidfTransformer()),\n",
    "         ('clf', MultinomialNB()\n",
    "         )\n",
    "        ]\n",
    "    )\n",
    "\n",
    "def svm():\n",
    "    return Pipeline(\n",
    "        [('vect', CountVectorizer(token_pattern=r'[^\\s]+')),\n",
    "         ('tfidf', TfidfTransformer()),\n",
    "         ('clf', SGDClassifier(\n",
    "             loss='hinge',\n",
    "             penalty='l2',\n",
    "             alpha=1e-3,\n",
    "             random_state=42,\n",
    "             learning_rate='optimal',\n",
    "             tol=None,\n",
    "         )\n",
    "         )\n",
    "        ]\n",
    "    )\n",
    "\n",
    "def predict(pipeline, df):\n",
    "    learner = pipeline.fit(train['text'], train['label'])\n",
    "    df['pred'] = learner.predict(df['text'])\n",
    "    return df"
   ]
  },
  {
   "cell_type": "markdown",
   "id": "0207ea48",
   "metadata": {},
   "source": [
    "## Test the models on the test dataset"
   ]
  },
  {
   "cell_type": "code",
   "execution_count": 5,
   "id": "82bc4e18",
   "metadata": {},
   "outputs": [],
   "source": [
    "from helper import accuracy"
   ]
  },
  {
   "cell_type": "code",
   "execution_count": 6,
   "id": "a8afe4f3",
   "metadata": {},
   "outputs": [],
   "source": [
    "logistic_test = predict(logistic(), test_data())"
   ]
  },
  {
   "cell_type": "code",
   "execution_count": 7,
   "id": "f415b716",
   "metadata": {},
   "outputs": [
    {
     "name": "stdout",
     "output_type": "stream",
     "text": [
      "Accuracy: 64.684\n",
      "Macro F1-score: 47.409\n"
     ]
    },
    {
     "data": {
      "text/plain": [
       "<sklearn.metrics._plot.confusion_matrix.ConfusionMatrixDisplay at 0x7fcaf9c0dc30>"
      ]
     },
     "execution_count": 7,
     "metadata": {},
     "output_type": "execute_result"
    },
    {
     "data": {
      "image/png": "[encoded data removed]",
      "text/plain": [
       "<Figure size 432x288 with 2 Axes>"
      ]
     },
     "metadata": {
      "needs_background": "light"
     },
     "output_type": "display_data"
    }
   ],
   "source": [
    "accuracy(logistic_test)"
   ]
  },
  {
   "cell_type": "code",
   "execution_count": 8,
   "id": "64a0dfef",
   "metadata": {},
   "outputs": [],
   "source": [
    "svm_test = predict(svm(), test_data())"
   ]
  },
  {
   "cell_type": "code",
   "execution_count": 9,
   "id": "ad92c75e",
   "metadata": {
    "scrolled": true
   },
   "outputs": [
    {
     "name": "stdout",
     "output_type": "stream",
     "text": [
      "Accuracy: 63.207\n",
      "Macro F1-score: 36.747\n"
     ]
    },
    {
     "data": {
      "text/plain": [
       "<sklearn.metrics._plot.confusion_matrix.ConfusionMatrixDisplay at 0x7fcaf93e5c30>"
      ]
     },
     "execution_count": 9,
     "metadata": {},
     "output_type": "execute_result"
    },
    {
     "data": {
      "image/png": "[encoded data removed]",
      "text/plain": [
       "<Figure size 432x288 with 2 Axes>"
      ]
     },
     "metadata": {
      "needs_background": "light"
     },
     "output_type": "display_data"
    }
   ],
   "source": [
    "accuracy(svm_test)"
   ]
  },
  {
   "cell_type": "code",
   "execution_count": 10,
   "id": "ce21a5c3",
   "metadata": {},
   "outputs": [],
   "source": [
    "nb = predict(bayes(), test_data())"
   ]
  },
  {
   "cell_type": "code",
   "execution_count": 11,
   "id": "efdaaece",
   "metadata": {
    "scrolled": true
   },
   "outputs": [
    {
     "name": "stdout",
     "output_type": "stream",
     "text": [
      "Accuracy: 61.519\n",
      "Macro F1-score: 31.412\n"
     ]
    },
    {
     "data": {
      "text/plain": [
       "<sklearn.metrics._plot.confusion_matrix.ConfusionMatrixDisplay at 0x7fcaf92437c0>"
      ]
     },
     "execution_count": 11,
     "metadata": {},
     "output_type": "execute_result"
    },
    {
     "data": {
      "image/png": "[encoded data removed]",
      "text/plain": [
       "<Figure size 432x288 with 2 Axes>"
      ]
     },
     "metadata": {
      "needs_background": "light"
     },
     "output_type": "display_data"
    }
   ],
   "source": [
    "accuracy(nb)"
   ]
  },
  {
   "cell_type": "markdown",
   "id": "7564f482",
   "metadata": {},
   "source": [
    "## Predict the winner using the models"
   ]
  },
  {
   "cell_type": "code",
   "execution_count": 13,
   "id": "a4b1221b",
   "metadata": {},
   "outputs": [],
   "source": [
    "def display(df):\n",
    "    df = df.groupby('pred').count()\n",
    "    df['percent'] = ((df['text'] / df['text'].sum()) * 100).round(2)\n",
    "    return df"
   ]
  },
  {
   "cell_type": "markdown",
   "id": "1b4359a6",
   "metadata": {},
   "source": [
    "#### Macron"
   ]
  },
  {
   "cell_type": "code",
   "execution_count": 14,
   "id": "1f06b3d2",
   "metadata": {},
   "outputs": [],
   "source": [
    "macron_logistic = predict(logistic(), macron_data())\n",
    "macron_bayes = predict(bayes(), macron_data())\n",
    "macron_svm = predict(svm(), macron_data())"
   ]
  },
  {
   "cell_type": "code",
   "execution_count": 15,
   "id": "349fa6cf",
   "metadata": {},
   "outputs": [
    {
     "data": {
      "text/html": [
       "<div>\n",
       "<style scoped>\n",
       "    .dataframe tbody tr th:only-of-type {\n",
       "        vertical-align: middle;\n",
       "    }\n",
       "\n",
       "    .dataframe tbody tr th {\n",
       "        vertical-align: top;\n",
       "    }\n",
       "\n",
       "    .dataframe thead th {\n",
       "        text-align: right;\n",
       "    }\n",
       "</style>\n",
       "<table border=\"1\" class=\"dataframe\">\n",
       "  <thead>\n",
       "    <tr style=\"text-align: right;\">\n",
       "      <th></th>\n",
       "      <th>text</th>\n",
       "      <th>percent</th>\n",
       "    </tr>\n",
       "    <tr>\n",
       "      <th>pred</th>\n",
       "      <th></th>\n",
       "      <th></th>\n",
       "    </tr>\n",
       "  </thead>\n",
       "  <tbody>\n",
       "    <tr>\n",
       "      <th>neg</th>\n",
       "      <td>88</td>\n",
       "      <td>5.75</td>\n",
       "    </tr>\n",
       "    <tr>\n",
       "      <th>neu</th>\n",
       "      <td>1350</td>\n",
       "      <td>88.18</td>\n",
       "    </tr>\n",
       "    <tr>\n",
       "      <th>pos</th>\n",
       "      <td>93</td>\n",
       "      <td>6.07</td>\n",
       "    </tr>\n",
       "  </tbody>\n",
       "</table>\n",
       "</div>"
      ],
      "text/plain": [
       "      text  percent\n",
       "pred               \n",
       "neg     88     5.75\n",
       "neu   1350    88.18\n",
       "pos     93     6.07"
      ]
     },
     "execution_count": 15,
     "metadata": {},
     "output_type": "execute_result"
    }
   ],
   "source": [
    "display(macron_logistic)"
   ]
  },
  {
   "cell_type": "code",
   "execution_count": 16,
   "id": "81316056",
   "metadata": {},
   "outputs": [
    {
     "data": {
      "text/html": [
       "<div>\n",
       "<style scoped>\n",
       "    .dataframe tbody tr th:only-of-type {\n",
       "        vertical-align: middle;\n",
       "    }\n",
       "\n",
       "    .dataframe tbody tr th {\n",
       "        vertical-align: top;\n",
       "    }\n",
       "\n",
       "    .dataframe thead th {\n",
       "        text-align: right;\n",
       "    }\n",
       "</style>\n",
       "<table border=\"1\" class=\"dataframe\">\n",
       "  <thead>\n",
       "    <tr style=\"text-align: right;\">\n",
       "      <th></th>\n",
       "      <th>text</th>\n",
       "      <th>percent</th>\n",
       "    </tr>\n",
       "    <tr>\n",
       "      <th>pred</th>\n",
       "      <th></th>\n",
       "      <th></th>\n",
       "    </tr>\n",
       "  </thead>\n",
       "  <tbody>\n",
       "    <tr>\n",
       "      <th>neg</th>\n",
       "      <td>9</td>\n",
       "      <td>0.59</td>\n",
       "    </tr>\n",
       "    <tr>\n",
       "      <th>neu</th>\n",
       "      <td>1501</td>\n",
       "      <td>98.04</td>\n",
       "    </tr>\n",
       "    <tr>\n",
       "      <th>pos</th>\n",
       "      <td>21</td>\n",
       "      <td>1.37</td>\n",
       "    </tr>\n",
       "  </tbody>\n",
       "</table>\n",
       "</div>"
      ],
      "text/plain": [
       "      text  percent\n",
       "pred               \n",
       "neg      9     0.59\n",
       "neu   1501    98.04\n",
       "pos     21     1.37"
      ]
     },
     "execution_count": 16,
     "metadata": {},
     "output_type": "execute_result"
    }
   ],
   "source": [
    "display(macron_bayes)"
   ]
  },
  {
   "cell_type": "code",
   "execution_count": 17,
   "id": "e0ccbda8",
   "metadata": {},
   "outputs": [
    {
     "data": {
      "text/html": [
       "<div>\n",
       "<style scoped>\n",
       "    .dataframe tbody tr th:only-of-type {\n",
       "        vertical-align: middle;\n",
       "    }\n",
       "\n",
       "    .dataframe tbody tr th {\n",
       "        vertical-align: top;\n",
       "    }\n",
       "\n",
       "    .dataframe thead th {\n",
       "        text-align: right;\n",
       "    }\n",
       "</style>\n",
       "<table border=\"1\" class=\"dataframe\">\n",
       "  <thead>\n",
       "    <tr style=\"text-align: right;\">\n",
       "      <th></th>\n",
       "      <th>text</th>\n",
       "      <th>percent</th>\n",
       "    </tr>\n",
       "    <tr>\n",
       "      <th>pred</th>\n",
       "      <th></th>\n",
       "      <th></th>\n",
       "    </tr>\n",
       "  </thead>\n",
       "  <tbody>\n",
       "    <tr>\n",
       "      <th>neg</th>\n",
       "      <td>2</td>\n",
       "      <td>0.13</td>\n",
       "    </tr>\n",
       "    <tr>\n",
       "      <th>neu</th>\n",
       "      <td>1479</td>\n",
       "      <td>96.60</td>\n",
       "    </tr>\n",
       "    <tr>\n",
       "      <th>pos</th>\n",
       "      <td>50</td>\n",
       "      <td>3.27</td>\n",
       "    </tr>\n",
       "  </tbody>\n",
       "</table>\n",
       "</div>"
      ],
      "text/plain": [
       "      text  percent\n",
       "pred               \n",
       "neg      2     0.13\n",
       "neu   1479    96.60\n",
       "pos     50     3.27"
      ]
     },
     "execution_count": 17,
     "metadata": {},
     "output_type": "execute_result"
    }
   ],
   "source": [
    "display(macron_svm)"
   ]
  },
  {
   "cell_type": "code",
   "execution_count": null,
   "id": "742dbb1d",
   "metadata": {},
   "outputs": [],
   "source": []
  }
 ],
 "metadata": {
  "kernelspec": {
   "display_name": "Python 3 (ipykernel)",
   "language": "python",
   "name": "python3"
  },
  "language_info": {
   "codemirror_mode": {
    "name": "ipython",
    "version": 3
   },
   "file_extension": ".py",
   "mimetype": "text/x-python",
   "name": "python",
   "nbconvert_exporter": "python",
   "pygments_lexer": "ipython3",
   "version": "3.10.4"
  }
 },
 "nbformat": 4,
 "nbformat_minor": 5
}
