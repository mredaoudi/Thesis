{
 "cells": [
  {
   "cell_type": "code",
   "execution_count": 1,
   "id": "1ecd4d4d",
   "metadata": {},
   "outputs": [],
   "source": [
    "import csv\n",
    "import pandas as pd\n",
    "from sklearn.pipeline import Pipeline\n",
    "from sklearn.linear_model import SGDClassifier\n",
    "from sklearn.linear_model import LogisticRegression\n",
    "from sklearn.naive_bayes import MultinomialNB, GaussianNB\n",
    "from sklearn.feature_extraction.text import CountVectorizer, TfidfTransformer"
   ]
  },
  {
   "cell_type": "code",
   "execution_count": 2,
   "id": "ebffc212",
   "metadata": {},
   "outputs": [],
   "source": [
    "def test_data():\n",
    "    return pd.read_csv('../data/csv/test.csv').dropna()\n",
    "\n",
    "def macron_data():\n",
    "    return pd.read_csv('../data/csv/prediction_macron.csv').dropna()\n",
    "\n",
    "def lepen_data():\n",
    "    return pd.read_csv('../data/csv/prediction_lepen.csv').dropna()"
   ]
  },
  {
   "cell_type": "code",
   "execution_count": 3,
   "id": "88b47ea3",
   "metadata": {},
   "outputs": [],
   "source": [
    "train = pd.read_csv('../data/csv/training.csv').dropna()"
   ]
  },
  {
   "cell_type": "code",
   "execution_count": 4,
   "id": "5ab05a1d",
   "metadata": {},
   "outputs": [],
   "source": [
    "def logistic_sentiment(df):\n",
    "    pipeline = Pipeline(\n",
    "        [('vect', CountVectorizer(token_pattern=r'[^\\s]+')),\n",
    "         ('tfidf', TfidfTransformer()),\n",
    "         ('clf', LogisticRegression(\n",
    "             solver='newton-cg',\n",
    "             multi_class='multinomial',\n",
    "             random_state=42,\n",
    "             max_iter=100,)\n",
    "         )\n",
    "        ]\n",
    "    )\n",
    "    learner = pipeline.fit(train['text'], train['label'])\n",
    "    df['pred'] = learner.predict(df['text'])\n",
    "    return df\n",
    "\n",
    "\n",
    "def bayes_sentiment(df):\n",
    "    pipeline = Pipeline(\n",
    "        [('vect', CountVectorizer(token_pattern=r'[^\\s]+')),\n",
    "         ('tfidf', TfidfTransformer()),\n",
    "         ('clf', MultinomialNB()\n",
    "         )\n",
    "        ]\n",
    "    )\n",
    "    learner = pipeline.fit(train['text'], train['label'])\n",
    "    df['pred'] = learner.predict(df['text'])\n",
    "    return df\n",
    "\n",
    "\n",
    "def svm_sentiment(df):\n",
    "    pipeline = Pipeline(\n",
    "        [('vect', CountVectorizer(token_pattern=r'[^\\s]+')),\n",
    "         ('tfidf', TfidfTransformer()),\n",
    "         ('clf', SGDClassifier(\n",
    "             loss='hinge',\n",
    "             penalty='l2',\n",
    "             alpha=1e-3,\n",
    "             random_state=42,\n",
    "             learning_rate='optimal',\n",
    "             tol=None,\n",
    "         )\n",
    "         )\n",
    "        ]\n",
    "    )\n",
    "    learner = pipeline.fit(train['text'], train['label'])\n",
    "    df['pred'] = learner.predict(df['text'])\n",
    "    return df"
   ]
  },
  {
   "cell_type": "markdown",
   "id": "0207ea48",
   "metadata": {},
   "source": [
    "## Test the models on the test dataset"
   ]
  },
  {
   "cell_type": "code",
   "execution_count": 5,
   "id": "82bc4e18",
   "metadata": {},
   "outputs": [],
   "source": [
    "from helper import accuracy, plot_confusion_matrix"
   ]
  },
  {
   "cell_type": "code",
   "execution_count": 6,
   "id": "a8afe4f3",
   "metadata": {},
   "outputs": [],
   "source": [
    "logistic = logistic_sentiment(test_data())"
   ]
  },
  {
   "cell_type": "code",
   "execution_count": 21,
   "id": "f415b716",
   "metadata": {},
   "outputs": [
    {
     "data": {
      "text/plain": [
       "<sklearn.metrics._plot.confusion_matrix.ConfusionMatrixDisplay at 0x7f6d1e3911e0>"
      ]
     },
     "execution_count": 21,
     "metadata": {},
     "output_type": "execute_result"
    },
    {
     "data": {
      "image/png": "[encoded data removed]",
      "text/plain": [
       "<Figure size 432x288 with 2 Axes>"
      ]
     },
     "metadata": {
      "needs_background": "light"
     },
     "output_type": "display_data"
    }
   ],
   "source": [
    "from sklearn.metrics import confusion_matrix, ConfusionMatrixDisplay\n",
    "import matplotlib.pyplot as plt\n",
    "import numpy as np\n",
    "cm = confusion_matrix(logistic['label'], logistic['pred'], labels=['pos', 'neu', 'neg'])\n",
    "cm = cm.astype('float') / cm.sum(axis=1)[:, np.newaxis]\n",
    "disp = ConfusionMatrixDisplay(confusion_matrix=cm, display_labels=['pos', 'neu', 'neg'])\n",
    "disp.plot(cmap=plt.cm.YlOrBr)"
   ]
  },
  {
   "cell_type": "code",
   "execution_count": 23,
   "id": "2fd8606b",
   "metadata": {},
   "outputs": [
    {
     "data": {
      "text/plain": [
       "<sklearn.metrics._plot.confusion_matrix.ConfusionMatrixDisplay at 0x7f6d1e480430>"
      ]
     },
     "execution_count": 23,
     "metadata": {},
     "output_type": "execute_result"
    },
    {
     "data": {
      "image/png": "[encoded data removed]",
      "text/plain": [
       "<Figure size 432x288 with 2 Axes>"
      ]
     },
     "metadata": {
      "needs_background": "light"
     },
     "output_type": "display_data"
    }
   ],
   "source": [
    "cm = confusion_matrix(logistic['label'], logistic['pred'], labels=['pos', 'neg', 'neu'])\n",
    "cm = cm.astype('float') / cm.sum(axis=1)[:, np.newaxis]\n",
    "disp = ConfusionMatrixDisplay(confusion_matrix=cm, display_labels=['pos', 'neg', 'neu'])\n",
    "disp.plot(cmap=plt.cm.YlOrBr)"
   ]
  },
  {
   "cell_type": "code",
   "execution_count": 18,
   "id": "fea455a7",
   "metadata": {},
   "outputs": [
    {
     "name": "stdout",
     "output_type": "stream",
     "text": [
      "Accuracy: 64.684\n",
      "Macro F1-score: 47.409\n"
     ]
    },
    {
     "data": {
      "text/plain": [
       "(<Figure size 432x288 with 2 Axes>,\n",
       " <AxesSubplot:xlabel='Predicted label', ylabel='True label'>)"
      ]
     },
     "execution_count": 18,
     "metadata": {},
     "output_type": "execute_result"
    },
    {
     "data": {
      "image/png": "[encoded data removed]",
      "text/plain": [
       "<Figure size 432x288 with 2 Axes>"
      ]
     },
     "metadata": {
      "needs_background": "light"
     },
     "output_type": "display_data"
    }
   ],
   "source": [
    "accuracy(logistic)"
   ]
  },
  {
   "cell_type": "code",
   "execution_count": 8,
   "id": "64a0dfef",
   "metadata": {},
   "outputs": [],
   "source": [
    "svm = svm_sentiment(test_data())"
   ]
  },
  {
   "cell_type": "code",
   "execution_count": 9,
   "id": "ad92c75e",
   "metadata": {
    "scrolled": true
   },
   "outputs": [
    {
     "name": "stdout",
     "output_type": "stream",
     "text": [
      "Accuracy: 63.207\n",
      "Macro F1-score: 36.747\n"
     ]
    },
    {
     "data": {
      "text/plain": [
       "(<Figure size 432x288 with 2 Axes>,\n",
       " <AxesSubplot:xlabel='Predicted label', ylabel='True label'>)"
      ]
     },
     "execution_count": 9,
     "metadata": {},
     "output_type": "execute_result"
    },
    {
     "data": {
      "image/png": "[encoded data removed]",
      "text/plain": [
       "<Figure size 432x288 with 2 Axes>"
      ]
     },
     "metadata": {
      "needs_background": "light"
     },
     "output_type": "display_data"
    }
   ],
   "source": [
    "accuracy(svm)"
   ]
  },
  {
   "cell_type": "code",
   "execution_count": 10,
   "id": "ce21a5c3",
   "metadata": {},
   "outputs": [],
   "source": [
    "nb = bayes_sentiment(test_data())"
   ]
  },
  {
   "cell_type": "code",
   "execution_count": 12,
   "id": "efdaaece",
   "metadata": {
    "scrolled": true
   },
   "outputs": [
    {
     "name": "stdout",
     "output_type": "stream",
     "text": [
      "Accuracy: 61.519\n",
      "Macro F1-score: 31.412\n"
     ]
    },
    {
     "data": {
      "text/plain": [
       "(<Figure size 432x288 with 2 Axes>,\n",
       " <AxesSubplot:xlabel='Predicted label', ylabel='True label'>)"
      ]
     },
     "execution_count": 12,
     "metadata": {},
     "output_type": "execute_result"
    },
    {
     "data": {
      "image/png": "[encoded data removed]",
      "text/plain": [
       "<Figure size 432x288 with 2 Axes>"
      ]
     },
     "metadata": {
      "needs_background": "light"
     },
     "output_type": "display_data"
    }
   ],
   "source": [
    "accuracy(nb)"
   ]
  },
  {
   "cell_type": "code",
   "execution_count": null,
   "id": "f45ab1e1",
   "metadata": {},
   "outputs": [],
   "source": [
    "nb"
   ]
  },
  {
   "cell_type": "code",
   "execution_count": null,
   "id": "9786671e",
   "metadata": {},
   "outputs": [],
   "source": []
  }
 ],
 "metadata": {
  "kernelspec": {
   "display_name": "Python 3 (ipykernel)",
   "language": "python",
   "name": "python3"
  },
  "language_info": {
   "codemirror_mode": {
    "name": "ipython",
    "version": 3
   },
   "file_extension": ".py",
   "mimetype": "text/x-python",
   "name": "python",
   "nbconvert_exporter": "python",
   "pygments_lexer": "ipython3",
   "version": "3.10.4"
  }
 },
 "nbformat": 4,
 "nbformat_minor": 5
}
