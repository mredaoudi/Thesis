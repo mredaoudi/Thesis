{
 "cells": [
  {
   "cell_type": "code",
   "execution_count": 11,
   "id": "671b3876",
   "metadata": {},
   "outputs": [],
   "source": [
    "import csv\n",
    "import re\n",
    "import string\n",
    "import json\n",
    "import random\n",
    "from nltk.tokenize.casual import TweetTokenizer"
   ]
  },
  {
   "cell_type": "code",
   "execution_count": 12,
   "id": "b1061737",
   "metadata": {},
   "outputs": [],
   "source": [
    "def preprocess_tweet(tweet_text):\n",
    "    tk = TweetTokenizer()\n",
    "    text = tweet_text.lower()\n",
    "    text = re.sub(r'\\d+', '', text)\n",
    "    text = re.sub(\"@[A-Za-z0-9]+\",\"\", text)\n",
    "    text = re.sub(\"#[A-Za-z0-9_éàèê]+\",\"\", text)\n",
    "    text = re.sub(r\"([a-z])['’]\", r\"\\1e \", text)\n",
    "    text = re.sub(r'http\\S+', '', text)\n",
    "    text = re.sub(r'[«»€$]', '', text)\n",
    "    translator = str.maketrans(string.punctuation, ' '*len(string.punctuation))\n",
    "    text = text.translate(translator)\n",
    "    text = \" \".join(text.split())\n",
    "    stopwords = json.load(open('../data/json/stopwords.json'))['words']\n",
    "    tokens = tk.tokenize(text)\n",
    "    result = ' '.join([w for w in tokens if w not in stopwords])\n",
    "    return result"
   ]
  },
  {
   "cell_type": "code",
   "execution_count": 17,
   "id": "d8d6fa01",
   "metadata": {},
   "outputs": [],
   "source": [
    "def from_json_to_csv(dataset_name, is_labeled = True):\n",
    "    dataset = json.load(open('../data/json/' + dataset_name + '.json'))\n",
    "    header = ['text', 'label'] if is_labeled else ['text']\n",
    "    with open('../data/csv/' + dataset_name + '.csv', 'w', encoding='UTF8') as f:\n",
    "        writer = csv.writer(f)\n",
    "        writer.writerow(header)\n",
    "        for tweet, details in dataset.items():\n",
    "            if details['tweet_data']:\n",
    "                text = preprocess_tweet(details['tweet_data']['text'])\n",
    "            else:\n",
    "                text = preprocess_tweet(details['previous_processed_text'])\n",
    "            if is_labeled:    \n",
    "                writer.writerow([text, details['sentiment_label']])\n",
    "            else:\n",
    "                writer.writerow([text])"
   ]
  },
  {
   "cell_type": "code",
   "execution_count": 18,
   "id": "38d37b72",
   "metadata": {},
   "outputs": [],
   "source": [
    "from_json_to_csv('training')\n",
    "from_json_to_csv('test')\n",
    "from_json_to_csv('prediction_macron', False)\n",
    "from_json_to_csv('prediction_lepen', False)"
   ]
  },
  {
   "cell_type": "code",
   "execution_count": null,
   "id": "4c33e24b",
   "metadata": {},
   "outputs": [],
   "source": []
  }
 ],
 "metadata": {
  "kernelspec": {
   "display_name": "Python 3 (ipykernel)",
   "language": "python",
   "name": "python3"
  },
  "language_info": {
   "codemirror_mode": {
    "name": "ipython",
    "version": 3
   },
   "file_extension": ".py",
   "mimetype": "text/x-python",
   "name": "python",
   "nbconvert_exporter": "python",
   "pygments_lexer": "ipython3",
   "version": "3.10.4"
  }
 },
 "nbformat": 4,
 "nbformat_minor": 5
}
